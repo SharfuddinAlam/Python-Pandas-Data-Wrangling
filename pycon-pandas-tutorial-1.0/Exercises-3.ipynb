{
 "cells": [
  {
   "cell_type": "code",
   "execution_count": 1,
   "metadata": {
    "collapsed": false
   },
   "outputs": [],
   "source": [
    "%matplotlib inline\n",
    "import pandas as pd"
   ]
  },
  {
   "cell_type": "code",
   "execution_count": 2,
   "metadata": {
    "collapsed": false
   },
   "outputs": [
    {
     "data": {
      "text/html": [
       "<style>body {\n",
       "    margin: 0;\n",
       "    font-family: Helvetica;\n",
       "}\n",
       "table.dataframe {\n",
       "    border-collapse: collapse;\n",
       "    border: none;\n",
       "}\n",
       "table.dataframe tr {\n",
       "    border: none;\n",
       "}\n",
       "table.dataframe td, table.dataframe th {\n",
       "    margin: 0;\n",
       "    border: 1px solid white;\n",
       "    padding-left: 0.25em;\n",
       "    padding-right: 0.25em;\n",
       "}\n",
       "table.dataframe th:not(:empty) {\n",
       "    background-color: #fec;\n",
       "    text-align: left;\n",
       "    font-weight: normal;\n",
       "}\n",
       "table.dataframe tr:nth-child(2) th:empty {\n",
       "    border-left: none;\n",
       "    border-right: 1px dashed #888;\n",
       "}\n",
       "table.dataframe td {\n",
       "    border: 2px solid #ccf;\n",
       "    background-color: #f4f4ff;\n",
       "}\n",
       "h3 {\n",
       "    color: white;\n",
       "    background-color: black;\n",
       "    padding: 0.5em;\n",
       "}\n",
       "</style>"
      ],
      "text/plain": [
       "<IPython.core.display.HTML object>"
      ]
     },
     "execution_count": 2,
     "metadata": {},
     "output_type": "execute_result"
    }
   ],
   "source": [
    "from IPython.core.display import HTML\n",
    "css = open('style-table.css').read() + open('style-notebook.css').read()\n",
    "HTML('<style>{}</style>'.format(css))"
   ]
  },
  {
   "cell_type": "code",
   "execution_count": 12,
   "metadata": {
    "collapsed": false
   },
   "outputs": [
    {
     "data": {
      "text/html": [
       "<div>\n",
       "<table border=\"1\" class=\"dataframe\">\n",
       "  <thead>\n",
       "    <tr style=\"text-align: right;\">\n",
       "      <th></th>\n",
       "      <th>title</th>\n",
       "      <th>year</th>\n",
       "    </tr>\n",
       "  </thead>\n",
       "  <tbody>\n",
       "    <tr>\n",
       "      <th>0</th>\n",
       "      <td>The Rising Son</td>\n",
       "      <td>1990</td>\n",
       "    </tr>\n",
       "    <tr>\n",
       "      <th>1</th>\n",
       "      <td>The Thousand Plane Raid</td>\n",
       "      <td>1969</td>\n",
       "    </tr>\n",
       "    <tr>\n",
       "      <th>2</th>\n",
       "      <td>Crucea de piatra</td>\n",
       "      <td>1993</td>\n",
       "    </tr>\n",
       "    <tr>\n",
       "      <th>3</th>\n",
       "      <td>Country</td>\n",
       "      <td>2000</td>\n",
       "    </tr>\n",
       "    <tr>\n",
       "      <th>4</th>\n",
       "      <td>Gaiking II</td>\n",
       "      <td>2011</td>\n",
       "    </tr>\n",
       "  </tbody>\n",
       "</table>\n",
       "</div>"
      ],
      "text/plain": [
       "                     title  year\n",
       "0           The Rising Son  1990\n",
       "1  The Thousand Plane Raid  1969\n",
       "2         Crucea de piatra  1993\n",
       "3                  Country  2000\n",
       "4               Gaiking II  2011"
      ]
     },
     "execution_count": 12,
     "metadata": {},
     "output_type": "execute_result"
    }
   ],
   "source": [
    "titles = pd.DataFrame.from_csv('data/titles.csv', index_col=None)\n",
    "titles.head()"
   ]
  },
  {
   "cell_type": "code",
   "execution_count": 13,
   "metadata": {
    "collapsed": false
   },
   "outputs": [
    {
     "data": {
      "text/html": [
       "<div>\n",
       "<table border=\"1\" class=\"dataframe\">\n",
       "  <thead>\n",
       "    <tr style=\"text-align: right;\">\n",
       "      <th></th>\n",
       "      <th>title</th>\n",
       "      <th>year</th>\n",
       "      <th>name</th>\n",
       "      <th>type</th>\n",
       "      <th>character</th>\n",
       "      <th>n</th>\n",
       "    </tr>\n",
       "  </thead>\n",
       "  <tbody>\n",
       "    <tr>\n",
       "      <th>0</th>\n",
       "      <td>Closet Monster</td>\n",
       "      <td>2015</td>\n",
       "      <td>Buffy #1</td>\n",
       "      <td>actor</td>\n",
       "      <td>Buffy 4</td>\n",
       "      <td>NaN</td>\n",
       "    </tr>\n",
       "    <tr>\n",
       "      <th>1</th>\n",
       "      <td>Suuri illusioni</td>\n",
       "      <td>1985</td>\n",
       "      <td>Homo $</td>\n",
       "      <td>actor</td>\n",
       "      <td>Guests</td>\n",
       "      <td>22.0</td>\n",
       "    </tr>\n",
       "    <tr>\n",
       "      <th>2</th>\n",
       "      <td>Battle of the Sexes</td>\n",
       "      <td>2017</td>\n",
       "      <td>$hutter</td>\n",
       "      <td>actor</td>\n",
       "      <td>Bobby Riggs Fan</td>\n",
       "      <td>10.0</td>\n",
       "    </tr>\n",
       "    <tr>\n",
       "      <th>3</th>\n",
       "      <td>Secret in Their Eyes</td>\n",
       "      <td>2015</td>\n",
       "      <td>$hutter</td>\n",
       "      <td>actor</td>\n",
       "      <td>2002 Dodger Fan</td>\n",
       "      <td>NaN</td>\n",
       "    </tr>\n",
       "    <tr>\n",
       "      <th>4</th>\n",
       "      <td>Steve Jobs</td>\n",
       "      <td>2015</td>\n",
       "      <td>$hutter</td>\n",
       "      <td>actor</td>\n",
       "      <td>1988 Opera House Patron</td>\n",
       "      <td>NaN</td>\n",
       "    </tr>\n",
       "  </tbody>\n",
       "</table>\n",
       "</div>"
      ],
      "text/plain": [
       "                  title  year      name   type                character     n\n",
       "0        Closet Monster  2015  Buffy #1  actor                  Buffy 4   NaN\n",
       "1       Suuri illusioni  1985    Homo $  actor                   Guests  22.0\n",
       "2   Battle of the Sexes  2017   $hutter  actor          Bobby Riggs Fan  10.0\n",
       "3  Secret in Their Eyes  2015   $hutter  actor          2002 Dodger Fan   NaN\n",
       "4            Steve Jobs  2015   $hutter  actor  1988 Opera House Patron   NaN"
      ]
     },
     "execution_count": 13,
     "metadata": {},
     "output_type": "execute_result"
    }
   ],
   "source": [
    "cast = pd.DataFrame.from_csv('data/cast.csv', index_col=None)\n",
    "cast.head()"
   ]
  },
  {
   "cell_type": "code",
   "execution_count": 14,
   "metadata": {
    "collapsed": false
   },
   "outputs": [
    {
     "data": {
      "text/html": [
       "<div>\n",
       "<table border=\"1\" class=\"dataframe\">\n",
       "  <thead>\n",
       "    <tr style=\"text-align: right;\">\n",
       "      <th></th>\n",
       "      <th></th>\n",
       "      <th>name</th>\n",
       "      <th>type</th>\n",
       "      <th>character</th>\n",
       "      <th>n</th>\n",
       "    </tr>\n",
       "    <tr>\n",
       "      <th>title</th>\n",
       "      <th>year</th>\n",
       "      <th></th>\n",
       "      <th></th>\n",
       "      <th></th>\n",
       "      <th></th>\n",
       "    </tr>\n",
       "  </thead>\n",
       "  <tbody>\n",
       "    <tr>\n",
       "      <th>Closet Monster</th>\n",
       "      <th>2015</th>\n",
       "      <td>Buffy #1</td>\n",
       "      <td>actor</td>\n",
       "      <td>Buffy 4</td>\n",
       "      <td>NaN</td>\n",
       "    </tr>\n",
       "    <tr>\n",
       "      <th>Suuri illusioni</th>\n",
       "      <th>1985</th>\n",
       "      <td>Homo $</td>\n",
       "      <td>actor</td>\n",
       "      <td>Guests</td>\n",
       "      <td>22.0</td>\n",
       "    </tr>\n",
       "    <tr>\n",
       "      <th>Battle of the Sexes</th>\n",
       "      <th>2017</th>\n",
       "      <td>$hutter</td>\n",
       "      <td>actor</td>\n",
       "      <td>Bobby Riggs Fan</td>\n",
       "      <td>10.0</td>\n",
       "    </tr>\n",
       "    <tr>\n",
       "      <th>Secret in Their Eyes</th>\n",
       "      <th>2015</th>\n",
       "      <td>$hutter</td>\n",
       "      <td>actor</td>\n",
       "      <td>2002 Dodger Fan</td>\n",
       "      <td>NaN</td>\n",
       "    </tr>\n",
       "    <tr>\n",
       "      <th>Steve Jobs</th>\n",
       "      <th>2015</th>\n",
       "      <td>$hutter</td>\n",
       "      <td>actor</td>\n",
       "      <td>1988 Opera House Patron</td>\n",
       "      <td>NaN</td>\n",
       "    </tr>\n",
       "    <tr>\n",
       "      <th rowspan=\"2\" valign=\"top\">Straight Outta Compton</th>\n",
       "      <th>2015</th>\n",
       "      <td>$hutter</td>\n",
       "      <td>actor</td>\n",
       "      <td>Club Patron</td>\n",
       "      <td>NaN</td>\n",
       "    </tr>\n",
       "    <tr>\n",
       "      <th>2015</th>\n",
       "      <td>$hutter</td>\n",
       "      <td>actor</td>\n",
       "      <td>Dopeman</td>\n",
       "      <td>NaN</td>\n",
       "    </tr>\n",
       "    <tr>\n",
       "      <th>For Thy Love 2</th>\n",
       "      <th>2009</th>\n",
       "      <td>Bee Moe $lim</td>\n",
       "      <td>actor</td>\n",
       "      <td>Thug 1</td>\n",
       "      <td>NaN</td>\n",
       "    </tr>\n",
       "    <tr>\n",
       "      <th>Lapis, Ballpen at Diploma, a True to Life Journey</th>\n",
       "      <th>2014</th>\n",
       "      <td>Jori ' Danilo' Jurado Jr.</td>\n",
       "      <td>actor</td>\n",
       "      <td>Jaime (young)</td>\n",
       "      <td>9.0</td>\n",
       "    </tr>\n",
       "    <tr>\n",
       "      <th>Desire (III)</th>\n",
       "      <th>2014</th>\n",
       "      <td>Syaiful 'Ariffin</td>\n",
       "      <td>actor</td>\n",
       "      <td>Actor Playing Eteocles from 'Antigone'</td>\n",
       "      <td>NaN</td>\n",
       "    </tr>\n",
       "    <tr>\n",
       "      <th>When the Man Went South</th>\n",
       "      <th>2014</th>\n",
       "      <td>Taipaleti 'Atu'ake</td>\n",
       "      <td>actor</td>\n",
       "      <td>Two Palms - Ua'i Paame</td>\n",
       "      <td>8.0</td>\n",
       "    </tr>\n",
       "    <tr>\n",
       "      <th>Little Angel (Angelita)</th>\n",
       "      <th>2015</th>\n",
       "      <td>Michael 'babeepower' Viera</td>\n",
       "      <td>actor</td>\n",
       "      <td>Chico</td>\n",
       "      <td>9.0</td>\n",
       "    </tr>\n",
       "    <tr>\n",
       "      <th>Mixing Nia</th>\n",
       "      <th>1998</th>\n",
       "      <td>Michael 'babeepower' Viera</td>\n",
       "      <td>actor</td>\n",
       "      <td>Rapper</td>\n",
       "      <td>NaN</td>\n",
       "    </tr>\n",
       "    <tr>\n",
       "      <th>The Replacements</th>\n",
       "      <th>2000</th>\n",
       "      <td>Steven 'Bear'Boyd</td>\n",
       "      <td>actor</td>\n",
       "      <td>Defensive Tackle - Washington Sentinels</td>\n",
       "      <td>NaN</td>\n",
       "    </tr>\n",
       "    <tr>\n",
       "      <th>All Out Dysfunktion!</th>\n",
       "      <th>2016</th>\n",
       "      <td>Kirlew 'bliss' Vilbon</td>\n",
       "      <td>actor</td>\n",
       "      <td>Bliss</td>\n",
       "      <td>NaN</td>\n",
       "    </tr>\n",
       "    <tr>\n",
       "      <th>Gook</th>\n",
       "      <th>2017</th>\n",
       "      <td>Kirlew 'bliss' Vilbon</td>\n",
       "      <td>actor</td>\n",
       "      <td>Bliss</td>\n",
       "      <td>NaN</td>\n",
       "    </tr>\n",
       "    <tr>\n",
       "      <th rowspan=\"2\" valign=\"top\">My Song for You</th>\n",
       "      <th>2010</th>\n",
       "      <td>George 'Bootsy' Thomas</td>\n",
       "      <td>actor</td>\n",
       "      <td>Cooley's Customer</td>\n",
       "      <td>16.0</td>\n",
       "    </tr>\n",
       "    <tr>\n",
       "      <th>2010</th>\n",
       "      <td>George 'Bootsy' Thomas</td>\n",
       "      <td>actor</td>\n",
       "      <td>Celebration Guest</td>\n",
       "      <td>16.0</td>\n",
       "    </tr>\n",
       "    <tr>\n",
       "      <th>Hustle Beach</th>\n",
       "      <th>2017</th>\n",
       "      <td>Pete 'Boretta' Torres</td>\n",
       "      <td>actor</td>\n",
       "      <td>Tony</td>\n",
       "      <td>NaN</td>\n",
       "    </tr>\n",
       "    <tr>\n",
       "      <th>Mariano Mison... NBI</th>\n",
       "      <th>1997</th>\n",
       "      <td>Joseph 'Byron' Sese</td>\n",
       "      <td>actor</td>\n",
       "      <td>Putik's Son</td>\n",
       "      <td>31.0</td>\n",
       "    </tr>\n",
       "    <tr>\n",
       "      <th>Natas es Satan</th>\n",
       "      <th>1977</th>\n",
       "      <td>Ramon 'Cartucho' Pena</td>\n",
       "      <td>actor</td>\n",
       "      <td>Nigth Club Owner</td>\n",
       "      <td>NaN</td>\n",
       "    </tr>\n",
       "    <tr>\n",
       "      <th>B-Girl</th>\n",
       "      <th>2009</th>\n",
       "      <td>Jesse 'Casper' Brown</td>\n",
       "      <td>actor</td>\n",
       "      <td>Battle Judge</td>\n",
       "      <td>25.0</td>\n",
       "    </tr>\n",
       "    <tr>\n",
       "      <th>Battle of the Year</th>\n",
       "      <th>2013</th>\n",
       "      <td>Jesse 'Casper' Brown</td>\n",
       "      <td>actor</td>\n",
       "      <td>Rebel</td>\n",
       "      <td>9.0</td>\n",
       "    </tr>\n",
       "    <tr>\n",
       "      <th>Honey 2</th>\n",
       "      <th>2011</th>\n",
       "      <td>Jesse 'Casper' Brown</td>\n",
       "      <td>actor</td>\n",
       "      <td>Freestyle Dancer</td>\n",
       "      <td>73.0</td>\n",
       "    </tr>\n",
       "    <tr>\n",
       "      <th>Kickin' It Old Skool</th>\n",
       "      <th>2007</th>\n",
       "      <td>Jesse 'Casper' Brown</td>\n",
       "      <td>actor</td>\n",
       "      <td>Cole</td>\n",
       "      <td>10.0</td>\n",
       "    </tr>\n",
       "    <tr>\n",
       "      <th>Step Up All In</th>\n",
       "      <th>2014</th>\n",
       "      <td>Jesse 'Casper' Brown</td>\n",
       "      <td>actor</td>\n",
       "      <td>Grim Knight Dancer</td>\n",
       "      <td>61.0</td>\n",
       "    </tr>\n",
       "    <tr>\n",
       "      <th>The LXD: The Secrets of the Ra</th>\n",
       "      <th>2011</th>\n",
       "      <td>Jesse 'Casper' Brown</td>\n",
       "      <td>actor</td>\n",
       "      <td>Fangz</td>\n",
       "      <td>NaN</td>\n",
       "    </tr>\n",
       "    <tr>\n",
       "      <th>Todo x Sara</th>\n",
       "      <th>2014</th>\n",
       "      <td>Gil 'Colibri'Viera</td>\n",
       "      <td>actor</td>\n",
       "      <td>Llavero</td>\n",
       "      <td>NaN</td>\n",
       "    </tr>\n",
       "    <tr>\n",
       "      <th>Barrio Gangsters</th>\n",
       "      <th>2009</th>\n",
       "      <td>Marcelino 'Dibujo' Torres</td>\n",
       "      <td>actor</td>\n",
       "      <td>Dibujo</td>\n",
       "      <td>NaN</td>\n",
       "    </tr>\n",
       "    <tr>\n",
       "      <th>Cornmeal, Gunpowder, Ham Hocks and Guitar Strings</th>\n",
       "      <th>2015</th>\n",
       "      <td>Donnie 'Dicky' Clemson</td>\n",
       "      <td>actor</td>\n",
       "      <td>Jeb Kinney</td>\n",
       "      <td>NaN</td>\n",
       "    </tr>\n",
       "    <tr>\n",
       "      <th>...</th>\n",
       "      <th>...</th>\n",
       "      <td>...</td>\n",
       "      <td>...</td>\n",
       "      <td>...</td>\n",
       "      <td>...</td>\n",
       "    </tr>\n",
       "    <tr>\n",
       "      <th>Askin kesisme noktasi</th>\n",
       "      <th>1990</th>\n",
       "      <td>Zuhal ?st?ntas</td>\n",
       "      <td>actress</td>\n",
       "      <td>Hira Ana</td>\n",
       "      <td>NaN</td>\n",
       "    </tr>\n",
       "    <tr>\n",
       "      <th>Dislanmis/Lekeli melek</th>\n",
       "      <th>1993</th>\n",
       "      <td>Zuhal ?st?ntas</td>\n",
       "      <td>actress</td>\n",
       "      <td>Fatma</td>\n",
       "      <td>NaN</td>\n",
       "    </tr>\n",
       "    <tr>\n",
       "      <th>Bhaag Milkha Bhaag</th>\n",
       "      <th>2013</th>\n",
       "      <td>Pr?ity ?upala</td>\n",
       "      <td>actress</td>\n",
       "      <td>Journalist (2013)</td>\n",
       "      <td>NaN</td>\n",
       "    </tr>\n",
       "    <tr>\n",
       "      <th>From Sydney with Love</th>\n",
       "      <th>2012</th>\n",
       "      <td>Pr?ity ?upala</td>\n",
       "      <td>actress</td>\n",
       "      <td>Shruti (2012)</td>\n",
       "      <td>NaN</td>\n",
       "    </tr>\n",
       "    <tr>\n",
       "      <th>Orange</th>\n",
       "      <th>2010</th>\n",
       "      <td>Pr?ity ?upala</td>\n",
       "      <td>actress</td>\n",
       "      <td>Usha (2010)</td>\n",
       "      <td>NaN</td>\n",
       "    </tr>\n",
       "    <tr>\n",
       "      <th>Sex and the City 2</th>\n",
       "      <th>2010</th>\n",
       "      <td>Pr?ity ?upala</td>\n",
       "      <td>actress</td>\n",
       "      <td>Shopper (2010)</td>\n",
       "      <td>NaN</td>\n",
       "    </tr>\n",
       "    <tr>\n",
       "      <th>Singh Is Kinng</th>\n",
       "      <th>2008</th>\n",
       "      <td>Pr?ity ?upala</td>\n",
       "      <td>actress</td>\n",
       "      <td>Puja (2008)</td>\n",
       "      <td>NaN</td>\n",
       "    </tr>\n",
       "    <tr>\n",
       "      <th>Thalaivaa</th>\n",
       "      <th>2013</th>\n",
       "      <td>Pr?ity ?upala</td>\n",
       "      <td>actress</td>\n",
       "      <td>Pooja (2013)</td>\n",
       "      <td>NaN</td>\n",
       "    </tr>\n",
       "    <tr>\n",
       "      <th>The Sky Has Fallen</th>\n",
       "      <th>2009</th>\n",
       "      <td>Pr?ity ?upala</td>\n",
       "      <td>actress</td>\n",
       "      <td>Skylar</td>\n",
       "      <td>NaN</td>\n",
       "    </tr>\n",
       "    <tr>\n",
       "      <th>Virsa</th>\n",
       "      <th>2010</th>\n",
       "      <td>Pr?ity ?upala</td>\n",
       "      <td>actress</td>\n",
       "      <td>Prema</td>\n",
       "      <td>NaN</td>\n",
       "    </tr>\n",
       "    <tr>\n",
       "      <th>Recep Ivedik 4</th>\n",
       "      <th>2014</th>\n",
       "      <td>Berna ??kaleler</td>\n",
       "      <td>actress</td>\n",
       "      <td>Simge</td>\n",
       "      <td>NaN</td>\n",
       "    </tr>\n",
       "    <tr>\n",
       "      <th>Gise Memuru</th>\n",
       "      <th>2010</th>\n",
       "      <td>Sevin? ??ok</td>\n",
       "      <td>actress</td>\n",
       "      <td>Afar Shouting Woman</td>\n",
       "      <td>18.0</td>\n",
       "    </tr>\n",
       "    <tr>\n",
       "      <th>Issiz Adam</th>\n",
       "      <th>2008</th>\n",
       "      <td>Sevin? ??ok</td>\n",
       "      <td>actress</td>\n",
       "      <td>Ece</td>\n",
       "      <td>NaN</td>\n",
       "    </tr>\n",
       "    <tr>\n",
       "      <th>Niceland (Population. 1.000.002)</th>\n",
       "      <th>2004</th>\n",
       "      <td>Hugr?n ?orfinnsd?ttir</td>\n",
       "      <td>actress</td>\n",
       "      <td>Diana</td>\n",
       "      <td>10.0</td>\n",
       "    </tr>\n",
       "    <tr>\n",
       "      <th>Eldfjall</th>\n",
       "      <th>2011</th>\n",
       "      <td>Katla M. ?orgeirsd?ttir</td>\n",
       "      <td>actress</td>\n",
       "      <td>Home Nurse</td>\n",
       "      <td>NaN</td>\n",
       "    </tr>\n",
       "    <tr>\n",
       "      <th>Svanurinn</th>\n",
       "      <th>2017</th>\n",
       "      <td>Katla M. ?orgeirsd?ttir</td>\n",
       "      <td>actress</td>\n",
       "      <td>?l?f</td>\n",
       "      <td>NaN</td>\n",
       "    </tr>\n",
       "    <tr>\n",
       "      <th>Nei er ekkert svar</th>\n",
       "      <th>1995</th>\n",
       "      <td>Gu?r?n B. ?orsteinsd?ttir</td>\n",
       "      <td>actress</td>\n",
       "      <td>Part?gestir</td>\n",
       "      <td>46.0</td>\n",
       "    </tr>\n",
       "    <tr>\n",
       "      <th>Agnes</th>\n",
       "      <th>1995</th>\n",
       "      <td>Ingibj?rg ?orsteinsd?ttir</td>\n",
       "      <td>actress</td>\n",
       "      <td>Kona</td>\n",
       "      <td>25.0</td>\n",
       "    </tr>\n",
       "    <tr>\n",
       "      <th>Beowulf &amp; Grendel</th>\n",
       "      <th>2005</th>\n",
       "      <td>Steinunn ?l?na ?orsteinsd?ttir</td>\n",
       "      <td>actress</td>\n",
       "      <td>Wealtheow</td>\n",
       "      <td>15.0</td>\n",
       "    </tr>\n",
       "    <tr>\n",
       "      <th>Dansinn</th>\n",
       "      <th>1998</th>\n",
       "      <td>Lilja Gu?r?n ?orvaldsd?ttir</td>\n",
       "      <td>actress</td>\n",
       "      <td>S?slumannafr?in</td>\n",
       "      <td>13.0</td>\n",
       "    </tr>\n",
       "    <tr>\n",
       "      <th>Foreldrar</th>\n",
       "      <th>2007</th>\n",
       "      <td>Lilja Gu?r?n ?orvaldsd?ttir</td>\n",
       "      <td>actress</td>\n",
       "      <td>Katrin Eldri</td>\n",
       "      <td>NaN</td>\n",
       "    </tr>\n",
       "    <tr>\n",
       "      <th>Rokland</th>\n",
       "      <th>2011</th>\n",
       "      <td>Lilja Gu?r?n ?orvaldsd?ttir</td>\n",
       "      <td>actress</td>\n",
       "      <td>A?albj?rg - Dagga's Mother</td>\n",
       "      <td>NaN</td>\n",
       "    </tr>\n",
       "    <tr>\n",
       "      <th>XL</th>\n",
       "      <th>2013</th>\n",
       "      <td>Lilja Gu?r?n ?orvaldsd?ttir</td>\n",
       "      <td>actress</td>\n",
       "      <td>Tengdamamma</td>\n",
       "      <td>NaN</td>\n",
       "    </tr>\n",
       "    <tr>\n",
       "      <th>Niceland (Population. 1.000.002)</th>\n",
       "      <th>2004</th>\n",
       "      <td>Steinunn ?orvaldsd?ttir</td>\n",
       "      <td>actress</td>\n",
       "      <td>Factory Worker</td>\n",
       "      <td>21.0</td>\n",
       "    </tr>\n",
       "    <tr>\n",
       "      <th>Stuttur Frakki</th>\n",
       "      <th>1993</th>\n",
       "      <td>Sveinbj?rg ??rhallsd?ttir</td>\n",
       "      <td>actress</td>\n",
       "      <td>Flugfreyja</td>\n",
       "      <td>24.0</td>\n",
       "    </tr>\n",
       "    <tr>\n",
       "      <th>Foxtrot</th>\n",
       "      <th>1988</th>\n",
       "      <td>Lilja ??risd?ttir</td>\n",
       "      <td>actress</td>\n",
       "      <td>D?ra</td>\n",
       "      <td>24.0</td>\n",
       "    </tr>\n",
       "    <tr>\n",
       "      <th>Niceland (Population. 1.000.002)</th>\n",
       "      <th>2004</th>\n",
       "      <td>Sigr??ur J?na ??risd?ttir</td>\n",
       "      <td>actress</td>\n",
       "      <td>Woman in Bus</td>\n",
       "      <td>26.0</td>\n",
       "    </tr>\n",
       "    <tr>\n",
       "      <th>Skammdegi</th>\n",
       "      <th>1985</th>\n",
       "      <td>Dalla ??r?ard?ttir</td>\n",
       "      <td>actress</td>\n",
       "      <td>Hj?krunarkona</td>\n",
       "      <td>9.0</td>\n",
       "    </tr>\n",
       "    <tr>\n",
       "      <th>U.S.S.S.S...</th>\n",
       "      <th>2003</th>\n",
       "      <td>Krist?n Andrea ??r?ard?ttir</td>\n",
       "      <td>actress</td>\n",
       "      <td>Afgr.dama ? bens?nst??</td>\n",
       "      <td>17.0</td>\n",
       "    </tr>\n",
       "    <tr>\n",
       "      <th>Bye Bye Blue Bird</th>\n",
       "      <th>1999</th>\n",
       "      <td>Rosa ? R?gvu</td>\n",
       "      <td>actress</td>\n",
       "      <td>Pensionatv?rtinde</td>\n",
       "      <td>NaN</td>\n",
       "    </tr>\n",
       "  </tbody>\n",
       "</table>\n",
       "<p>3611212 rows × 4 columns</p>\n",
       "</div>"
      ],
      "text/plain": [
       "                                                                                  name  \\\n",
       "title                                             year                                   \n",
       "Closet Monster                                    2015                        Buffy #1   \n",
       "Suuri illusioni                                   1985                          Homo $   \n",
       "Battle of the Sexes                               2017                         $hutter   \n",
       "Secret in Their Eyes                              2015                         $hutter   \n",
       "Steve Jobs                                        2015                         $hutter   \n",
       "Straight Outta Compton                            2015                         $hutter   \n",
       "                                                  2015                         $hutter   \n",
       "For Thy Love 2                                    2009                    Bee Moe $lim   \n",
       "Lapis, Ballpen at Diploma, a True to Life Journey 2014       Jori ' Danilo' Jurado Jr.   \n",
       "Desire (III)                                      2014                Syaiful 'Ariffin   \n",
       "When the Man Went South                           2014              Taipaleti 'Atu'ake   \n",
       "Little Angel (Angelita)                           2015      Michael 'babeepower' Viera   \n",
       "Mixing Nia                                        1998      Michael 'babeepower' Viera   \n",
       "The Replacements                                  2000               Steven 'Bear'Boyd   \n",
       "All Out Dysfunktion!                              2016           Kirlew 'bliss' Vilbon   \n",
       "Gook                                              2017           Kirlew 'bliss' Vilbon   \n",
       "My Song for You                                   2010          George 'Bootsy' Thomas   \n",
       "                                                  2010          George 'Bootsy' Thomas   \n",
       "Hustle Beach                                      2017           Pete 'Boretta' Torres   \n",
       "Mariano Mison... NBI                              1997             Joseph 'Byron' Sese   \n",
       "Natas es Satan                                    1977           Ramon 'Cartucho' Pena   \n",
       "B-Girl                                            2009            Jesse 'Casper' Brown   \n",
       "Battle of the Year                                2013            Jesse 'Casper' Brown   \n",
       "Honey 2                                           2011            Jesse 'Casper' Brown   \n",
       "Kickin' It Old Skool                              2007            Jesse 'Casper' Brown   \n",
       "Step Up All In                                    2014            Jesse 'Casper' Brown   \n",
       "The LXD: The Secrets of the Ra                    2011            Jesse 'Casper' Brown   \n",
       "Todo x Sara                                       2014              Gil 'Colibri'Viera   \n",
       "Barrio Gangsters                                  2009       Marcelino 'Dibujo' Torres   \n",
       "Cornmeal, Gunpowder, Ham Hocks and Guitar Strings 2015          Donnie 'Dicky' Clemson   \n",
       "...                                                                                ...   \n",
       "Askin kesisme noktasi                             1990                  Zuhal ?st?ntas   \n",
       "Dislanmis/Lekeli melek                            1993                  Zuhal ?st?ntas   \n",
       "Bhaag Milkha Bhaag                                2013                   Pr?ity ?upala   \n",
       "From Sydney with Love                             2012                   Pr?ity ?upala   \n",
       "Orange                                            2010                   Pr?ity ?upala   \n",
       "Sex and the City 2                                2010                   Pr?ity ?upala   \n",
       "Singh Is Kinng                                    2008                   Pr?ity ?upala   \n",
       "Thalaivaa                                         2013                   Pr?ity ?upala   \n",
       "The Sky Has Fallen                                2009                   Pr?ity ?upala   \n",
       "Virsa                                             2010                   Pr?ity ?upala   \n",
       "Recep Ivedik 4                                    2014                 Berna ??kaleler   \n",
       "Gise Memuru                                       2010                     Sevin? ??ok   \n",
       "Issiz Adam                                        2008                     Sevin? ??ok   \n",
       "Niceland (Population. 1.000.002)                  2004           Hugr?n ?orfinnsd?ttir   \n",
       "Eldfjall                                          2011         Katla M. ?orgeirsd?ttir   \n",
       "Svanurinn                                         2017         Katla M. ?orgeirsd?ttir   \n",
       "Nei er ekkert svar                                1995       Gu?r?n B. ?orsteinsd?ttir   \n",
       "Agnes                                             1995       Ingibj?rg ?orsteinsd?ttir   \n",
       "Beowulf & Grendel                                 2005  Steinunn ?l?na ?orsteinsd?ttir   \n",
       "Dansinn                                           1998     Lilja Gu?r?n ?orvaldsd?ttir   \n",
       "Foreldrar                                         2007     Lilja Gu?r?n ?orvaldsd?ttir   \n",
       "Rokland                                           2011     Lilja Gu?r?n ?orvaldsd?ttir   \n",
       "XL                                                2013     Lilja Gu?r?n ?orvaldsd?ttir   \n",
       "Niceland (Population. 1.000.002)                  2004         Steinunn ?orvaldsd?ttir   \n",
       "Stuttur Frakki                                    1993       Sveinbj?rg ??rhallsd?ttir   \n",
       "Foxtrot                                           1988               Lilja ??risd?ttir   \n",
       "Niceland (Population. 1.000.002)                  2004       Sigr??ur J?na ??risd?ttir   \n",
       "Skammdegi                                         1985              Dalla ??r?ard?ttir   \n",
       "U.S.S.S.S...                                      2003     Krist?n Andrea ??r?ard?ttir   \n",
       "Bye Bye Blue Bird                                 1999                    Rosa ? R?gvu   \n",
       "\n",
       "                                                           type  \\\n",
       "title                                             year            \n",
       "Closet Monster                                    2015    actor   \n",
       "Suuri illusioni                                   1985    actor   \n",
       "Battle of the Sexes                               2017    actor   \n",
       "Secret in Their Eyes                              2015    actor   \n",
       "Steve Jobs                                        2015    actor   \n",
       "Straight Outta Compton                            2015    actor   \n",
       "                                                  2015    actor   \n",
       "For Thy Love 2                                    2009    actor   \n",
       "Lapis, Ballpen at Diploma, a True to Life Journey 2014    actor   \n",
       "Desire (III)                                      2014    actor   \n",
       "When the Man Went South                           2014    actor   \n",
       "Little Angel (Angelita)                           2015    actor   \n",
       "Mixing Nia                                        1998    actor   \n",
       "The Replacements                                  2000    actor   \n",
       "All Out Dysfunktion!                              2016    actor   \n",
       "Gook                                              2017    actor   \n",
       "My Song for You                                   2010    actor   \n",
       "                                                  2010    actor   \n",
       "Hustle Beach                                      2017    actor   \n",
       "Mariano Mison... NBI                              1997    actor   \n",
       "Natas es Satan                                    1977    actor   \n",
       "B-Girl                                            2009    actor   \n",
       "Battle of the Year                                2013    actor   \n",
       "Honey 2                                           2011    actor   \n",
       "Kickin' It Old Skool                              2007    actor   \n",
       "Step Up All In                                    2014    actor   \n",
       "The LXD: The Secrets of the Ra                    2011    actor   \n",
       "Todo x Sara                                       2014    actor   \n",
       "Barrio Gangsters                                  2009    actor   \n",
       "Cornmeal, Gunpowder, Ham Hocks and Guitar Strings 2015    actor   \n",
       "...                                                         ...   \n",
       "Askin kesisme noktasi                             1990  actress   \n",
       "Dislanmis/Lekeli melek                            1993  actress   \n",
       "Bhaag Milkha Bhaag                                2013  actress   \n",
       "From Sydney with Love                             2012  actress   \n",
       "Orange                                            2010  actress   \n",
       "Sex and the City 2                                2010  actress   \n",
       "Singh Is Kinng                                    2008  actress   \n",
       "Thalaivaa                                         2013  actress   \n",
       "The Sky Has Fallen                                2009  actress   \n",
       "Virsa                                             2010  actress   \n",
       "Recep Ivedik 4                                    2014  actress   \n",
       "Gise Memuru                                       2010  actress   \n",
       "Issiz Adam                                        2008  actress   \n",
       "Niceland (Population. 1.000.002)                  2004  actress   \n",
       "Eldfjall                                          2011  actress   \n",
       "Svanurinn                                         2017  actress   \n",
       "Nei er ekkert svar                                1995  actress   \n",
       "Agnes                                             1995  actress   \n",
       "Beowulf & Grendel                                 2005  actress   \n",
       "Dansinn                                           1998  actress   \n",
       "Foreldrar                                         2007  actress   \n",
       "Rokland                                           2011  actress   \n",
       "XL                                                2013  actress   \n",
       "Niceland (Population. 1.000.002)                  2004  actress   \n",
       "Stuttur Frakki                                    1993  actress   \n",
       "Foxtrot                                           1988  actress   \n",
       "Niceland (Population. 1.000.002)                  2004  actress   \n",
       "Skammdegi                                         1985  actress   \n",
       "U.S.S.S.S...                                      2003  actress   \n",
       "Bye Bye Blue Bird                                 1999  actress   \n",
       "\n",
       "                                                                                      character  \\\n",
       "title                                             year                                            \n",
       "Closet Monster                                    2015                                  Buffy 4   \n",
       "Suuri illusioni                                   1985                                   Guests   \n",
       "Battle of the Sexes                               2017                          Bobby Riggs Fan   \n",
       "Secret in Their Eyes                              2015                          2002 Dodger Fan   \n",
       "Steve Jobs                                        2015                  1988 Opera House Patron   \n",
       "Straight Outta Compton                            2015                              Club Patron   \n",
       "                                                  2015                                  Dopeman   \n",
       "For Thy Love 2                                    2009                                   Thug 1   \n",
       "Lapis, Ballpen at Diploma, a True to Life Journey 2014                            Jaime (young)   \n",
       "Desire (III)                                      2014   Actor Playing Eteocles from 'Antigone'   \n",
       "When the Man Went South                           2014                   Two Palms - Ua'i Paame   \n",
       "Little Angel (Angelita)                           2015                                    Chico   \n",
       "Mixing Nia                                        1998                                   Rapper   \n",
       "The Replacements                                  2000  Defensive Tackle - Washington Sentinels   \n",
       "All Out Dysfunktion!                              2016                                    Bliss   \n",
       "Gook                                              2017                                    Bliss   \n",
       "My Song for You                                   2010                        Cooley's Customer   \n",
       "                                                  2010                        Celebration Guest   \n",
       "Hustle Beach                                      2017                                     Tony   \n",
       "Mariano Mison... NBI                              1997                              Putik's Son   \n",
       "Natas es Satan                                    1977                         Nigth Club Owner   \n",
       "B-Girl                                            2009                             Battle Judge   \n",
       "Battle of the Year                                2013                                    Rebel   \n",
       "Honey 2                                           2011                         Freestyle Dancer   \n",
       "Kickin' It Old Skool                              2007                                     Cole   \n",
       "Step Up All In                                    2014                       Grim Knight Dancer   \n",
       "The LXD: The Secrets of the Ra                    2011                                    Fangz   \n",
       "Todo x Sara                                       2014                                  Llavero   \n",
       "Barrio Gangsters                                  2009                                   Dibujo   \n",
       "Cornmeal, Gunpowder, Ham Hocks and Guitar Strings 2015                               Jeb Kinney   \n",
       "...                                                                                         ...   \n",
       "Askin kesisme noktasi                             1990                                 Hira Ana   \n",
       "Dislanmis/Lekeli melek                            1993                                    Fatma   \n",
       "Bhaag Milkha Bhaag                                2013                        Journalist (2013)   \n",
       "From Sydney with Love                             2012                            Shruti (2012)   \n",
       "Orange                                            2010                              Usha (2010)   \n",
       "Sex and the City 2                                2010                           Shopper (2010)   \n",
       "Singh Is Kinng                                    2008                              Puja (2008)   \n",
       "Thalaivaa                                         2013                             Pooja (2013)   \n",
       "The Sky Has Fallen                                2009                                   Skylar   \n",
       "Virsa                                             2010                                    Prema   \n",
       "Recep Ivedik 4                                    2014                                    Simge   \n",
       "Gise Memuru                                       2010                      Afar Shouting Woman   \n",
       "Issiz Adam                                        2008                                      Ece   \n",
       "Niceland (Population. 1.000.002)                  2004                                    Diana   \n",
       "Eldfjall                                          2011                               Home Nurse   \n",
       "Svanurinn                                         2017                                     ?l?f   \n",
       "Nei er ekkert svar                                1995                              Part?gestir   \n",
       "Agnes                                             1995                                     Kona   \n",
       "Beowulf & Grendel                                 2005                                Wealtheow   \n",
       "Dansinn                                           1998                          S?slumannafr?in   \n",
       "Foreldrar                                         2007                             Katrin Eldri   \n",
       "Rokland                                           2011               A?albj?rg - Dagga's Mother   \n",
       "XL                                                2013                              Tengdamamma   \n",
       "Niceland (Population. 1.000.002)                  2004                           Factory Worker   \n",
       "Stuttur Frakki                                    1993                               Flugfreyja   \n",
       "Foxtrot                                           1988                                     D?ra   \n",
       "Niceland (Population. 1.000.002)                  2004                             Woman in Bus   \n",
       "Skammdegi                                         1985                            Hj?krunarkona   \n",
       "U.S.S.S.S...                                      2003                   Afgr.dama ? bens?nst??   \n",
       "Bye Bye Blue Bird                                 1999                        Pensionatv?rtinde   \n",
       "\n",
       "                                                           n  \n",
       "title                                             year        \n",
       "Closet Monster                                    2015   NaN  \n",
       "Suuri illusioni                                   1985  22.0  \n",
       "Battle of the Sexes                               2017  10.0  \n",
       "Secret in Their Eyes                              2015   NaN  \n",
       "Steve Jobs                                        2015   NaN  \n",
       "Straight Outta Compton                            2015   NaN  \n",
       "                                                  2015   NaN  \n",
       "For Thy Love 2                                    2009   NaN  \n",
       "Lapis, Ballpen at Diploma, a True to Life Journey 2014   9.0  \n",
       "Desire (III)                                      2014   NaN  \n",
       "When the Man Went South                           2014   8.0  \n",
       "Little Angel (Angelita)                           2015   9.0  \n",
       "Mixing Nia                                        1998   NaN  \n",
       "The Replacements                                  2000   NaN  \n",
       "All Out Dysfunktion!                              2016   NaN  \n",
       "Gook                                              2017   NaN  \n",
       "My Song for You                                   2010  16.0  \n",
       "                                                  2010  16.0  \n",
       "Hustle Beach                                      2017   NaN  \n",
       "Mariano Mison... NBI                              1997  31.0  \n",
       "Natas es Satan                                    1977   NaN  \n",
       "B-Girl                                            2009  25.0  \n",
       "Battle of the Year                                2013   9.0  \n",
       "Honey 2                                           2011  73.0  \n",
       "Kickin' It Old Skool                              2007  10.0  \n",
       "Step Up All In                                    2014  61.0  \n",
       "The LXD: The Secrets of the Ra                    2011   NaN  \n",
       "Todo x Sara                                       2014   NaN  \n",
       "Barrio Gangsters                                  2009   NaN  \n",
       "Cornmeal, Gunpowder, Ham Hocks and Guitar Strings 2015   NaN  \n",
       "...                                                      ...  \n",
       "Askin kesisme noktasi                             1990   NaN  \n",
       "Dislanmis/Lekeli melek                            1993   NaN  \n",
       "Bhaag Milkha Bhaag                                2013   NaN  \n",
       "From Sydney with Love                             2012   NaN  \n",
       "Orange                                            2010   NaN  \n",
       "Sex and the City 2                                2010   NaN  \n",
       "Singh Is Kinng                                    2008   NaN  \n",
       "Thalaivaa                                         2013   NaN  \n",
       "The Sky Has Fallen                                2009   NaN  \n",
       "Virsa                                             2010   NaN  \n",
       "Recep Ivedik 4                                    2014   NaN  \n",
       "Gise Memuru                                       2010  18.0  \n",
       "Issiz Adam                                        2008   NaN  \n",
       "Niceland (Population. 1.000.002)                  2004  10.0  \n",
       "Eldfjall                                          2011   NaN  \n",
       "Svanurinn                                         2017   NaN  \n",
       "Nei er ekkert svar                                1995  46.0  \n",
       "Agnes                                             1995  25.0  \n",
       "Beowulf & Grendel                                 2005  15.0  \n",
       "Dansinn                                           1998  13.0  \n",
       "Foreldrar                                         2007   NaN  \n",
       "Rokland                                           2011   NaN  \n",
       "XL                                                2013   NaN  \n",
       "Niceland (Population. 1.000.002)                  2004  21.0  \n",
       "Stuttur Frakki                                    1993  24.0  \n",
       "Foxtrot                                           1988  24.0  \n",
       "Niceland (Population. 1.000.002)                  2004  26.0  \n",
       "Skammdegi                                         1985   9.0  \n",
       "U.S.S.S.S...                                      2003  17.0  \n",
       "Bye Bye Blue Bird                                 1999   NaN  \n",
       "\n",
       "[3611212 rows x 4 columns]"
      ]
     },
     "execution_count": 14,
     "metadata": {},
     "output_type": "execute_result"
    }
   ],
   "source": [
    "c=cast\n",
    "c.set_index(['title','year'])#.sort_index()"
   ]
  },
  {
   "cell_type": "markdown",
   "metadata": {
    "collapsed": true
   },
   "source": [
    "### Using groupby(), plot the number of films that have been released each decade in the history of cinema."
   ]
  },
  {
   "cell_type": "code",
   "execution_count": 16,
   "metadata": {
    "collapsed": false
   },
   "outputs": [
    {
     "data": {
      "text/plain": [
       "<matplotlib.axes._subplots.AxesSubplot at 0x1a019144be0>"
      ]
     },
     "execution_count": 16,
     "metadata": {},
     "output_type": "execute_result"
    },
    {
     "data": {
      "image/png": "[encoded data removed]",
      "text/plain": [
       "<matplotlib.figure.Figure at 0x1a021438d30>"
      ]
     },
     "metadata": {},
     "output_type": "display_data"
    }
   ],
   "source": [
    "t=titles\n",
    "t.groupby(t.year // 10 * 10).size().plot(kind='bar')"
   ]
  },
  {
   "cell_type": "code",
   "execution_count": null,
   "metadata": {
    "collapsed": true
   },
   "outputs": [],
   "source": []
  },
  {
   "cell_type": "code",
   "execution_count": 47,
   "metadata": {
    "collapsed": false
   },
   "outputs": [
    {
     "data": {
      "text/plain": [
       "<matplotlib.axes._subplots.AxesSubplot at 0x1d83298c6d8>"
      ]
     },
     "execution_count": 47,
     "metadata": {},
     "output_type": "execute_result"
    },
    {
     "data": {
      "image/png": "[encoded data removed]",
      "text/plain": [
       "<matplotlib.figure.Figure at 0x1d800ae5710>"
      ]
     },
     "metadata": {},
     "output_type": "display_data"
    }
   ],
   "source": [
    "t=titles\n",
    "t.groupby(t.year//10 * 10).size().plot(kind='bar')"
   ]
  },
  {
   "cell_type": "code",
   "execution_count": 48,
   "metadata": {
    "collapsed": false
   },
   "outputs": [
    {
     "data": {
      "text/plain": [
       "<matplotlib.axes._subplots.AxesSubplot at 0x1d82e4c80b8>"
      ]
     },
     "execution_count": 48,
     "metadata": {},
     "output_type": "execute_result"
    },
    {
     "data": {
      "image/png": "[encoded data removed]",
      "text/plain": [
       "<matplotlib.figure.Figure at 0x1d82e5b8780>"
      ]
     },
     "metadata": {},
     "output_type": "display_data"
    }
   ],
   "source": [
    "t=titles\n",
    "t.groupby(t.year//10 * 10).size().plot(kind='bar')"
   ]
  },
  {
   "cell_type": "code",
   "execution_count": 49,
   "metadata": {
    "collapsed": false
   },
   "outputs": [
    {
     "data": {
      "text/plain": [
       "<matplotlib.axes._subplots.AxesSubplot at 0x1d82e61f4a8>"
      ]
     },
     "execution_count": 49,
     "metadata": {},
     "output_type": "execute_result"
    },
    {
     "data": {
      "image/png": "[encoded data removed]",
      "text/plain": [
       "<matplotlib.figure.Figure at 0x1d82e826cf8>"
      ]
     },
     "metadata": {},
     "output_type": "display_data"
    }
   ],
   "source": [
    "t=titles\n",
    "t.groupby(t.year//10 * 10).size().plot(kind='bar')"
   ]
  },
  {
   "cell_type": "code",
   "execution_count": null,
   "metadata": {
    "collapsed": true
   },
   "outputs": [],
   "source": []
  },
  {
   "cell_type": "code",
   "execution_count": 50,
   "metadata": {
    "collapsed": false
   },
   "outputs": [
    {
     "data": {
      "text/plain": [
       "<matplotlib.axes._subplots.AxesSubplot at 0x1d82e940cf8>"
      ]
     },
     "execution_count": 50,
     "metadata": {},
     "output_type": "execute_result"
    },
    {
     "data": {
      "image/png": "[encoded data removed]",
      "text/plain": [
       "<matplotlib.figure.Figure at 0x1d82e815978>"
      ]
     },
     "metadata": {},
     "output_type": "display_data"
    }
   ],
   "source": [
    "t=titles\n",
    "t.groupby(t.year//10 * 10).size().plot(kind='bar')"
   ]
  },
  {
   "cell_type": "code",
   "execution_count": 51,
   "metadata": {
    "collapsed": false
   },
   "outputs": [
    {
     "data": {
      "text/plain": [
       "<matplotlib.axes._subplots.AxesSubplot at 0x1d82e42f208>"
      ]
     },
     "execution_count": 51,
     "metadata": {},
     "output_type": "execute_result"
    },
    {
     "data": {
      "image/png": "[encoded data removed]",
      "text/plain": [
       "<matplotlib.figure.Figure at 0x1d830910898>"
      ]
     },
     "metadata": {},
     "output_type": "display_data"
    }
   ],
   "source": [
    "t=titles\n",
    "t.groupby(t.year//10 * 10).size().plot(kind='bar')"
   ]
  },
  {
   "cell_type": "markdown",
   "metadata": {
    "collapsed": true
   },
   "source": [
    "### Use groupby() to plot the number of \"Hamlet\" films made each decade."
   ]
  },
  {
   "cell_type": "code",
   "execution_count": 17,
   "metadata": {
    "collapsed": false
   },
   "outputs": [
    {
     "data": {
      "text/plain": [
       "<matplotlib.axes._subplots.AxesSubplot at 0x19fa7d7dd68>"
      ]
     },
     "execution_count": 17,
     "metadata": {},
     "output_type": "execute_result"
    },
    {
     "data": {
      "image/png": "[encoded data removed]",
      "text/plain": [
       "<matplotlib.figure.Figure at 0x19fa7d8c630>"
      ]
     },
     "metadata": {},
     "output_type": "display_data"
    }
   ],
   "source": [
    "t=titles\n",
    "t=t[t.title == 'Hamlet']\n",
    "t.groupby(t.year//10 * 10).size().plot(kind = 'bar')"
   ]
  },
  {
   "cell_type": "code",
   "execution_count": null,
   "metadata": {
    "collapsed": true
   },
   "outputs": [],
   "source": []
  },
  {
   "cell_type": "code",
   "execution_count": 52,
   "metadata": {
    "collapsed": false
   },
   "outputs": [
    {
     "data": {
      "text/plain": [
       "<matplotlib.axes._subplots.AxesSubplot at 0x1d830a62400>"
      ]
     },
     "execution_count": 52,
     "metadata": {},
     "output_type": "execute_result"
    },
    {
     "data": {
      "image/png": "[encoded data removed]",
      "text/plain": [
       "<matplotlib.figure.Figure at 0x1d830a19eb8>"
      ]
     },
     "metadata": {},
     "output_type": "display_data"
    }
   ],
   "source": [
    "t=titles\n",
    "t=t[t.title == 'Hamlet']\n",
    "t.groupby(t.year // 10 * 10).size().plot(kind='bar')"
   ]
  },
  {
   "cell_type": "code",
   "execution_count": 53,
   "metadata": {
    "collapsed": false,
    "scrolled": true
   },
   "outputs": [
    {
     "data": {
      "text/plain": [
       "<matplotlib.axes._subplots.AxesSubplot at 0x1d830a84668>"
      ]
     },
     "execution_count": 53,
     "metadata": {},
     "output_type": "execute_result"
    },
    {
     "data": {
      "image/png": "[encoded data removed]",
      "text/plain": [
       "<matplotlib.figure.Figure at 0x1d830a907b8>"
      ]
     },
     "metadata": {},
     "output_type": "display_data"
    }
   ],
   "source": [
    "t=titles\n",
    "t=t.set_index('title').sort_index()\n",
    "t=t.loc['Hamlet']\n",
    "t.groupby(t.year//10 * 10).size().plot(kind='bar')"
   ]
  },
  {
   "cell_type": "code",
   "execution_count": 54,
   "metadata": {
    "collapsed": false
   },
   "outputs": [
    {
     "data": {
      "text/plain": [
       "<matplotlib.axes._subplots.AxesSubplot at 0x1d83159f518>"
      ]
     },
     "execution_count": 54,
     "metadata": {},
     "output_type": "execute_result"
    },
    {
     "data": {
      "image/png": "[encoded data removed]",
      "text/plain": [
       "<matplotlib.figure.Figure at 0x1d831627ba8>"
      ]
     },
     "metadata": {},
     "output_type": "display_data"
    }
   ],
   "source": [
    "t=titles\n",
    "t=t[t.title == 'Hamlet']\n",
    "t.groupby(t.year // 10 * 10 ).size().plot(kind='bar')"
   ]
  },
  {
   "cell_type": "code",
   "execution_count": null,
   "metadata": {
    "collapsed": true
   },
   "outputs": [],
   "source": []
  },
  {
   "cell_type": "code",
   "execution_count": null,
   "metadata": {
    "collapsed": true
   },
   "outputs": [],
   "source": []
  },
  {
   "cell_type": "code",
   "execution_count": 55,
   "metadata": {
    "collapsed": false
   },
   "outputs": [
    {
     "data": {
      "text/plain": [
       "<matplotlib.axes._subplots.AxesSubplot at 0x1d831586c88>"
      ]
     },
     "execution_count": 55,
     "metadata": {},
     "output_type": "execute_result"
    },
    {
     "data": {
      "image/png": "[encoded data removed]",
      "text/plain": [
       "<matplotlib.figure.Figure at 0x1d83166deb8>"
      ]
     },
     "metadata": {},
     "output_type": "display_data"
    }
   ],
   "source": [
    "t=titles\n",
    "t=t[t.title == 'Hamlet']\n",
    "t.groupby(t.year // 10 * 10).size().plot(kind='bar')"
   ]
  },
  {
   "cell_type": "code",
   "execution_count": 56,
   "metadata": {
    "collapsed": false
   },
   "outputs": [
    {
     "data": {
      "text/plain": [
       "<matplotlib.axes._subplots.AxesSubplot at 0x1d8309a01d0>"
      ]
     },
     "execution_count": 56,
     "metadata": {},
     "output_type": "execute_result"
    },
    {
     "data": {
      "image/png": "[encoded data removed]",
      "text/plain": [
       "<matplotlib.figure.Figure at 0x1d8317a8dd8>"
      ]
     },
     "metadata": {},
     "output_type": "display_data"
    }
   ],
   "source": [
    "t=titles\n",
    "t=t[t.title == 'Hamlet']\n",
    "t.groupby(t.year// 10 * 10).size().plot(kind='bar')"
   ]
  },
  {
   "cell_type": "code",
   "execution_count": null,
   "metadata": {
    "collapsed": true
   },
   "outputs": [],
   "source": []
  },
  {
   "cell_type": "code",
   "execution_count": null,
   "metadata": {
    "collapsed": true
   },
   "outputs": [],
   "source": []
  },
  {
   "cell_type": "code",
   "execution_count": null,
   "metadata": {
    "collapsed": true
   },
   "outputs": [],
   "source": []
  },
  {
   "cell_type": "markdown",
   "metadata": {
    "collapsed": true
   },
   "source": [
    "### How many leading (n=1) roles were available to actors, and how many to actresses, in each year of the 1950s?"
   ]
  },
  {
   "cell_type": "code",
   "execution_count": 19,
   "metadata": {
    "collapsed": false
   },
   "outputs": [
    {
     "data": {
      "text/plain": [
       "year  type   \n",
       "1950  actor      621\n",
       "      actress    279\n",
       "1951  actor      647\n",
       "      actress    279\n",
       "1952  actor      606\n",
       "      actress    291\n",
       "1953  actor      652\n",
       "      actress    300\n",
       "1954  actor      634\n",
       "      actress    308\n",
       "1955  actor      639\n",
       "      actress    281\n",
       "1956  actor      642\n",
       "      actress    304\n",
       "1957  actor      734\n",
       "      actress    301\n",
       "1958  actor      704\n",
       "      actress    293\n",
       "1959  actor      720\n",
       "      actress    317\n",
       "dtype: int64"
      ]
     },
     "execution_count": 19,
     "metadata": {},
     "output_type": "execute_result"
    }
   ],
   "source": [
    "c=cast\n",
    "c=c[(c.year//10 == 195) & (c.n == 1)]\n",
    "c.groupby(['year','type']).size()"
   ]
  },
  {
   "cell_type": "code",
   "execution_count": null,
   "metadata": {
    "collapsed": true
   },
   "outputs": [],
   "source": []
  },
  {
   "cell_type": "code",
   "execution_count": 57,
   "metadata": {
    "collapsed": false
   },
   "outputs": [
    {
     "ename": "AttributeError",
     "evalue": "'DataFrame' object has no attribute 'year'",
     "output_type": "error",
     "traceback": [
      "\u001b[0;31m---------------------------------------------------------------------------\u001b[0m",
      "\u001b[0;31mAttributeError\u001b[0m                            Traceback (most recent call last)",
      "\u001b[0;32m<ipython-input-57-bd5ada6da134>\u001b[0m in \u001b[0;36m<module>\u001b[0;34m()\u001b[0m\n\u001b[1;32m      1\u001b[0m \u001b[0mc\u001b[0m\u001b[1;33m=\u001b[0m\u001b[0mcast\u001b[0m\u001b[1;33m\u001b[0m\u001b[0m\n\u001b[1;32m      2\u001b[0m \u001b[0mc\u001b[0m\u001b[1;33m=\u001b[0m\u001b[0mc\u001b[0m\u001b[1;33m.\u001b[0m\u001b[0mset_index\u001b[0m\u001b[1;33m(\u001b[0m\u001b[1;33m[\u001b[0m\u001b[1;34m'year'\u001b[0m\u001b[1;33m,\u001b[0m\u001b[1;34m'type'\u001b[0m\u001b[1;33m]\u001b[0m\u001b[1;33m)\u001b[0m\u001b[1;33m.\u001b[0m\u001b[0msort_index\u001b[0m\u001b[1;33m(\u001b[0m\u001b[1;33m)\u001b[0m\u001b[1;33m\u001b[0m\u001b[0m\n\u001b[0;32m----> 3\u001b[0;31m \u001b[0mc\u001b[0m\u001b[1;33m=\u001b[0m\u001b[0mc\u001b[0m\u001b[1;33m[\u001b[0m\u001b[1;33m(\u001b[0m\u001b[0mc\u001b[0m\u001b[1;33m.\u001b[0m\u001b[0mn\u001b[0m \u001b[1;33m==\u001b[0m \u001b[1;36m1\u001b[0m\u001b[1;33m)\u001b[0m\u001b[1;33m&\u001b[0m\u001b[1;33m(\u001b[0m\u001b[0mc\u001b[0m\u001b[1;33m.\u001b[0m\u001b[0myear\u001b[0m\u001b[1;33m//\u001b[0m\u001b[1;36m10\u001b[0m \u001b[1;33m==\u001b[0m \u001b[1;36m195\u001b[0m\u001b[1;33m)\u001b[0m\u001b[1;33m]\u001b[0m\u001b[1;33m\u001b[0m\u001b[0m\n\u001b[0m\u001b[1;32m      4\u001b[0m \u001b[0mc\u001b[0m\u001b[1;33m\u001b[0m\u001b[0m\n",
      "\u001b[0;32mC:\\Users\\owner\\Anaconda3\\lib\\site-packages\\pandas\\core\\generic.py\u001b[0m in \u001b[0;36m__getattr__\u001b[0;34m(self, name)\u001b[0m\n\u001b[1;32m   2742\u001b[0m             \u001b[1;32mif\u001b[0m \u001b[0mname\u001b[0m \u001b[1;32min\u001b[0m \u001b[0mself\u001b[0m\u001b[1;33m.\u001b[0m\u001b[0m_info_axis\u001b[0m\u001b[1;33m:\u001b[0m\u001b[1;33m\u001b[0m\u001b[0m\n\u001b[1;32m   2743\u001b[0m                 \u001b[1;32mreturn\u001b[0m \u001b[0mself\u001b[0m\u001b[1;33m[\u001b[0m\u001b[0mname\u001b[0m\u001b[1;33m]\u001b[0m\u001b[1;33m\u001b[0m\u001b[0m\n\u001b[0;32m-> 2744\u001b[0;31m             \u001b[1;32mreturn\u001b[0m \u001b[0mobject\u001b[0m\u001b[1;33m.\u001b[0m\u001b[0m__getattribute__\u001b[0m\u001b[1;33m(\u001b[0m\u001b[0mself\u001b[0m\u001b[1;33m,\u001b[0m \u001b[0mname\u001b[0m\u001b[1;33m)\u001b[0m\u001b[1;33m\u001b[0m\u001b[0m\n\u001b[0m\u001b[1;32m   2745\u001b[0m \u001b[1;33m\u001b[0m\u001b[0m\n\u001b[1;32m   2746\u001b[0m     \u001b[1;32mdef\u001b[0m \u001b[0m__setattr__\u001b[0m\u001b[1;33m(\u001b[0m\u001b[0mself\u001b[0m\u001b[1;33m,\u001b[0m \u001b[0mname\u001b[0m\u001b[1;33m,\u001b[0m \u001b[0mvalue\u001b[0m\u001b[1;33m)\u001b[0m\u001b[1;33m:\u001b[0m\u001b[1;33m\u001b[0m\u001b[0m\n",
      "\u001b[0;31mAttributeError\u001b[0m: 'DataFrame' object has no attribute 'year'"
     ]
    }
   ],
   "source": [
    "c=cast\n",
    "c=c.set_index(['year','type']).sort_index()\n",
    "c=c[(c.n == 1)&(c.year//10 == 195)]\n",
    "c"
   ]
  },
  {
   "cell_type": "code",
   "execution_count": 25,
   "metadata": {
    "collapsed": false
   },
   "outputs": [
    {
     "data": {
      "text/plain": [
       "year  type   \n",
       "1950  actor      621\n",
       "      actress    279\n",
       "1951  actor      647\n",
       "      actress    279\n",
       "1952  actor      606\n",
       "      actress    291\n",
       "1953  actor      652\n",
       "      actress    300\n",
       "1954  actor      634\n",
       "      actress    308\n",
       "1955  actor      639\n",
       "      actress    281\n",
       "1956  actor      642\n",
       "      actress    304\n",
       "1957  actor      734\n",
       "      actress    301\n",
       "1958  actor      704\n",
       "      actress    293\n",
       "1959  actor      720\n",
       "      actress    317\n",
       "dtype: int64"
      ]
     },
     "execution_count": 25,
     "metadata": {},
     "output_type": "execute_result"
    }
   ],
   "source": [
    "c=cast\n",
    "c=c[(c.n ==1) & (c.year//10 == 195)]\n",
    "c.groupby(['year','type']).size()"
   ]
  },
  {
   "cell_type": "code",
   "execution_count": 11,
   "metadata": {
    "collapsed": false
   },
   "outputs": [
    {
     "data": {
      "text/plain": [
       "year  type   \n",
       "1950  actor      621\n",
       "      actress    279\n",
       "1951  actor      647\n",
       "      actress    279\n",
       "1952  actor      606\n",
       "      actress    291\n",
       "1953  actor      652\n",
       "      actress    300\n",
       "1954  actor      634\n",
       "      actress    308\n",
       "1955  actor      639\n",
       "      actress    281\n",
       "1956  actor      642\n",
       "      actress    304\n",
       "1957  actor      734\n",
       "      actress    301\n",
       "1958  actor      704\n",
       "      actress    293\n",
       "1959  actor      720\n",
       "      actress    317\n",
       "dtype: int64"
      ]
     },
     "execution_count": 11,
     "metadata": {},
     "output_type": "execute_result"
    }
   ],
   "source": [
    "c=cast\n",
    "c=c[(c.year//10 ==195) & (c.n==1)]\n",
    "c.groupby(['year','type']).size()\n"
   ]
  },
  {
   "cell_type": "code",
   "execution_count": 9,
   "metadata": {
    "collapsed": false
   },
   "outputs": [
    {
     "data": {
      "text/plain": [
       "type     year\n",
       "actor    1950    621\n",
       "         1951    647\n",
       "         1952    606\n",
       "         1953    652\n",
       "         1954    634\n",
       "         1955    639\n",
       "         1956    642\n",
       "         1957    734\n",
       "         1958    704\n",
       "         1959    720\n",
       "actress  1950    279\n",
       "         1951    279\n",
       "         1952    291\n",
       "         1953    300\n",
       "         1954    308\n",
       "         1955    281\n",
       "         1956    304\n",
       "         1957    301\n",
       "         1958    293\n",
       "         1959    317\n",
       "dtype: int64"
      ]
     },
     "execution_count": 9,
     "metadata": {},
     "output_type": "execute_result"
    }
   ],
   "source": [
    "c=cast\n",
    "c=c[(c.year//10 ==195) & (c.n == 1)]\n",
    "c.groupby(['type','year']).size()"
   ]
  },
  {
   "cell_type": "code",
   "execution_count": 58,
   "metadata": {
    "collapsed": false
   },
   "outputs": [
    {
     "data": {
      "text/plain": [
       "<matplotlib.axes._subplots.AxesSubplot at 0x1d8018dbf28>"
      ]
     },
     "execution_count": 58,
     "metadata": {},
     "output_type": "execute_result"
    },
    {
     "data": {
      "image/png": "[encoded data removed]",
      "text/plain": [
       "<matplotlib.figure.Figure at 0x1d82e5e2470>"
      ]
     },
     "metadata": {},
     "output_type": "display_data"
    }
   ],
   "source": [
    "c=cast\n",
    "c=c[(c.year//10 == 195) & (c.n == 1)]\n",
    "c.groupby(['year','type']).size().plot(kind='bar')"
   ]
  },
  {
   "cell_type": "code",
   "execution_count": null,
   "metadata": {
    "collapsed": true
   },
   "outputs": [],
   "source": []
  },
  {
   "cell_type": "code",
   "execution_count": null,
   "metadata": {
    "collapsed": true
   },
   "outputs": [],
   "source": []
  },
  {
   "cell_type": "markdown",
   "metadata": {
    "collapsed": true
   },
   "source": [
    "### In the 1950s decade taken as a whole, how many total roles were available to actors, and how many to actresses, for each \"n\" number 1 through 5?"
   ]
  },
  {
   "cell_type": "code",
   "execution_count": 22,
   "metadata": {
    "collapsed": false
   },
   "outputs": [
    {
     "data": {
      "text/plain": [
       "n    type   \n",
       "1.0  actor      6599\n",
       "     actress    2953\n",
       "2.0  actor      4550\n",
       "     actress    4544\n",
       "3.0  actor      5575\n",
       "     actress    3136\n",
       "4.0  actor      5581\n",
       "     actress    2838\n",
       "5.0  actor      5597\n",
       "     actress    2540\n",
       "dtype: int64"
      ]
     },
     "execution_count": 22,
     "metadata": {},
     "output_type": "execute_result"
    }
   ],
   "source": [
    "c=cast\n",
    "c=c[(c.year // 10 == 195) & (c.n <= 5)]\n",
    "c.groupby(['n','type']).size()"
   ]
  },
  {
   "cell_type": "code",
   "execution_count": null,
   "metadata": {
    "collapsed": true
   },
   "outputs": [],
   "source": []
  },
  {
   "cell_type": "code",
   "execution_count": 59,
   "metadata": {
    "collapsed": false
   },
   "outputs": [
    {
     "data": {
      "text/plain": [
       "n    type   \n",
       "1.0  actor      6599\n",
       "     actress    2953\n",
       "2.0  actor      4550\n",
       "     actress    4544\n",
       "3.0  actor      5575\n",
       "     actress    3136\n",
       "4.0  actor      5581\n",
       "     actress    2838\n",
       "5.0  actor      5597\n",
       "     actress    2540\n",
       "dtype: int64"
      ]
     },
     "execution_count": 59,
     "metadata": {},
     "output_type": "execute_result"
    }
   ],
   "source": [
    "c=cast\n",
    "c=c[(c.year//10 == 195) & (c.n < 6)]\n",
    "c.groupby(['n','type']).size()"
   ]
  },
  {
   "cell_type": "code",
   "execution_count": null,
   "metadata": {
    "collapsed": true
   },
   "outputs": [],
   "source": []
  },
  {
   "cell_type": "code",
   "execution_count": 31,
   "metadata": {
    "collapsed": false
   },
   "outputs": [
    {
     "data": {
      "text/plain": [
       "n    type   \n",
       "1.0  actor      6599\n",
       "     actress    2953\n",
       "2.0  actor      4550\n",
       "     actress    4544\n",
       "3.0  actor      5575\n",
       "     actress    3136\n",
       "4.0  actor      5581\n",
       "     actress    2838\n",
       "5.0  actor      5597\n",
       "     actress    2540\n",
       "dtype: int64"
      ]
     },
     "execution_count": 31,
     "metadata": {},
     "output_type": "execute_result"
    }
   ],
   "source": [
    "c=cast\n",
    "c=c[(c.year //10 == 195) & (c.n < 6)]\n",
    "c.groupby(['n','type']).size()"
   ]
  },
  {
   "cell_type": "code",
   "execution_count": 12,
   "metadata": {
    "collapsed": false
   },
   "outputs": [
    {
     "data": {
      "text/plain": [
       "n    type   \n",
       "1.0  actor      6599\n",
       "     actress    2953\n",
       "2.0  actor      4550\n",
       "     actress    4544\n",
       "3.0  actor      5575\n",
       "     actress    3136\n",
       "4.0  actor      5581\n",
       "     actress    2838\n",
       "5.0  actor      5597\n",
       "     actress    2540\n",
       "dtype: int64"
      ]
     },
     "execution_count": 12,
     "metadata": {},
     "output_type": "execute_result"
    }
   ],
   "source": [
    "c=cast\n",
    "c=c[(c.year//10 == 195) & (c.n < 6)]\n",
    "c.groupby(['n','type']).size()"
   ]
  },
  {
   "cell_type": "code",
   "execution_count": null,
   "metadata": {
    "collapsed": true
   },
   "outputs": [],
   "source": []
  },
  {
   "cell_type": "code",
   "execution_count": null,
   "metadata": {
    "collapsed": true
   },
   "outputs": [],
   "source": []
  },
  {
   "cell_type": "code",
   "execution_count": null,
   "metadata": {
    "collapsed": true
   },
   "outputs": [],
   "source": []
  },
  {
   "cell_type": "code",
   "execution_count": null,
   "metadata": {
    "collapsed": true
   },
   "outputs": [],
   "source": []
  },
  {
   "cell_type": "code",
   "execution_count": null,
   "metadata": {
    "collapsed": true
   },
   "outputs": [],
   "source": []
  },
  {
   "cell_type": "code",
   "execution_count": null,
   "metadata": {
    "collapsed": true
   },
   "outputs": [],
   "source": []
  },
  {
   "cell_type": "markdown",
   "metadata": {
    "collapsed": true
   },
   "source": [
    "### Use groupby() to determine how many roles are listed for each of the Pink Panther movies."
   ]
  },
  {
   "cell_type": "code",
   "execution_count": 27,
   "metadata": {
    "collapsed": false
   },
   "outputs": [
    {
     "ename": "AttributeError",
     "evalue": "'_LocIndexer' object has no attribute 'groupby'",
     "output_type": "error",
     "traceback": [
      "\u001b[0;31m---------------------------------------------------------------------------\u001b[0m",
      "\u001b[0;31mAttributeError\u001b[0m                            Traceback (most recent call last)",
      "\u001b[0;32m<ipython-input-27-f252e61b325c>\u001b[0m in \u001b[0;36m<module>\u001b[0;34m()\u001b[0m\n\u001b[1;32m      2\u001b[0m \u001b[0mc\u001b[0m\u001b[1;33m.\u001b[0m\u001b[0mset_index\u001b[0m\u001b[1;33m(\u001b[0m\u001b[1;34m'title'\u001b[0m\u001b[1;33m)\u001b[0m\u001b[1;33m.\u001b[0m\u001b[0msort_index\u001b[0m\u001b[1;33m(\u001b[0m\u001b[1;33m)\u001b[0m\u001b[1;33m\u001b[0m\u001b[0m\n\u001b[1;32m      3\u001b[0m \u001b[0mc\u001b[0m\u001b[1;33m=\u001b[0m\u001b[0mc\u001b[0m\u001b[1;33m.\u001b[0m\u001b[0mloc\u001b[0m\u001b[1;33m(\u001b[0m\u001b[1;34m'Pink Panther'\u001b[0m\u001b[1;33m)\u001b[0m\u001b[1;33m\u001b[0m\u001b[0m\n\u001b[0;32m----> 4\u001b[0;31m \u001b[0mc\u001b[0m\u001b[1;33m.\u001b[0m\u001b[0mgroupby\u001b[0m\u001b[1;33m(\u001b[0m\u001b[1;33m[\u001b[0m\u001b[1;34m'n'\u001b[0m\u001b[1;33m,\u001b[0m\u001b[1;34m'year'\u001b[0m\u001b[1;33m]\u001b[0m\u001b[1;33m)\u001b[0m\u001b[1;33m.\u001b[0m\u001b[0msize\u001b[0m\u001b[1;33m(\u001b[0m\u001b[1;33m)\u001b[0m\u001b[1;33m\u001b[0m\u001b[0m\n\u001b[0m",
      "\u001b[0;31mAttributeError\u001b[0m: '_LocIndexer' object has no attribute 'groupby'"
     ]
    }
   ],
   "source": [
    "c=cast\n",
    "c.set_index('title').sort_index()\n",
    "c=c.loc('Pink Panther')\n",
    "c.groupby(['n','year']).size()"
   ]
  },
  {
   "cell_type": "code",
   "execution_count": 28,
   "metadata": {
    "collapsed": false
   },
   "outputs": [
    {
     "data": {
      "text/plain": [
       "Series([], dtype: int64)"
      ]
     },
     "execution_count": 28,
     "metadata": {},
     "output_type": "execute_result"
    }
   ],
   "source": [
    "c=cast\n",
    "c=c[c.title == 'Pink Panther'].sort_values('n')\n",
    "c.groupby(['n','year']).size()"
   ]
  },
  {
   "cell_type": "code",
   "execution_count": 66,
   "metadata": {
    "collapsed": false
   },
   "outputs": [
    {
     "data": {
      "text/plain": [
       "Series([], dtype: int64)"
      ]
     },
     "execution_count": 66,
     "metadata": {},
     "output_type": "execute_result"
    }
   ],
   "source": [
    "c=cast\n",
    "c=c[c.title == 'Pink Panther'].sort_values('n')\n",
    "c.groupby(['n','year']).size()"
   ]
  },
  {
   "cell_type": "code",
   "execution_count": null,
   "metadata": {
    "collapsed": true
   },
   "outputs": [],
   "source": []
  },
  {
   "cell_type": "code",
   "execution_count": 35,
   "metadata": {
    "collapsed": false
   },
   "outputs": [
    {
     "data": {
      "text/plain": [
       "Series([], dtype: int64)"
      ]
     },
     "execution_count": 35,
     "metadata": {},
     "output_type": "execute_result"
    }
   ],
   "source": [
    "c=cast\n",
    "c=c[c.title == 'Pink Panther'].sort_values('n')\n",
    "c.groupby(['n','year']).size()"
   ]
  },
  {
   "cell_type": "code",
   "execution_count": null,
   "metadata": {
    "collapsed": true
   },
   "outputs": [],
   "source": []
  },
  {
   "cell_type": "code",
   "execution_count": 29,
   "metadata": {
    "collapsed": false
   },
   "outputs": [
    {
     "data": {
      "text/html": [
       "<div>\n",
       "<table border=\"1\" class=\"dataframe\">\n",
       "  <thead>\n",
       "    <tr style=\"text-align: right;\">\n",
       "      <th></th>\n",
       "      <th></th>\n",
       "      <th>title</th>\n",
       "      <th>name</th>\n",
       "      <th>type</th>\n",
       "      <th>character</th>\n",
       "    </tr>\n",
       "    <tr>\n",
       "      <th>year</th>\n",
       "      <th>n</th>\n",
       "      <th></th>\n",
       "      <th></th>\n",
       "      <th></th>\n",
       "      <th></th>\n",
       "    </tr>\n",
       "  </thead>\n",
       "  <tbody>\n",
       "    <tr>\n",
       "      <th rowspan=\"15\" valign=\"top\">1963</th>\n",
       "      <th>1.0</th>\n",
       "      <td>The Pink Panther</td>\n",
       "      <td>David Niven</td>\n",
       "      <td>actor</td>\n",
       "      <td>Sir Charles Lytton</td>\n",
       "    </tr>\n",
       "    <tr>\n",
       "      <th>2.0</th>\n",
       "      <td>The Pink Panther</td>\n",
       "      <td>Peter Sellers</td>\n",
       "      <td>actor</td>\n",
       "      <td>Insp. Jacques Clouseau</td>\n",
       "    </tr>\n",
       "    <tr>\n",
       "      <th>3.0</th>\n",
       "      <td>The Pink Panther</td>\n",
       "      <td>Robert Wagner</td>\n",
       "      <td>actor</td>\n",
       "      <td>George Lytton</td>\n",
       "    </tr>\n",
       "    <tr>\n",
       "      <th>4.0</th>\n",
       "      <td>The Pink Panther</td>\n",
       "      <td>Capucine</td>\n",
       "      <td>actress</td>\n",
       "      <td>Simone Clouseau</td>\n",
       "    </tr>\n",
       "    <tr>\n",
       "      <th>5.0</th>\n",
       "      <td>The Pink Panther</td>\n",
       "      <td>Brenda de Banzie</td>\n",
       "      <td>actress</td>\n",
       "      <td>Angela Dunning</td>\n",
       "    </tr>\n",
       "    <tr>\n",
       "      <th>6.0</th>\n",
       "      <td>The Pink Panther</td>\n",
       "      <td>Colin Gordon</td>\n",
       "      <td>actor</td>\n",
       "      <td>Tucker</td>\n",
       "    </tr>\n",
       "    <tr>\n",
       "      <th>7.0</th>\n",
       "      <td>The Pink Panther</td>\n",
       "      <td>John Le Mesurier</td>\n",
       "      <td>actor</td>\n",
       "      <td>Defence Barrister</td>\n",
       "    </tr>\n",
       "    <tr>\n",
       "      <th>8.0</th>\n",
       "      <td>The Pink Panther</td>\n",
       "      <td>James Lanphier</td>\n",
       "      <td>actor</td>\n",
       "      <td>Saloud</td>\n",
       "    </tr>\n",
       "    <tr>\n",
       "      <th>9.0</th>\n",
       "      <td>The Pink Panther</td>\n",
       "      <td>Guy Thomajan</td>\n",
       "      <td>actor</td>\n",
       "      <td>Artoff</td>\n",
       "    </tr>\n",
       "    <tr>\n",
       "      <th>10.0</th>\n",
       "      <td>The Pink Panther</td>\n",
       "      <td>Michael Trubshawe</td>\n",
       "      <td>actor</td>\n",
       "      <td>Felix Townes</td>\n",
       "    </tr>\n",
       "    <tr>\n",
       "      <th>11.0</th>\n",
       "      <td>The Pink Panther</td>\n",
       "      <td>Riccardo Billi</td>\n",
       "      <td>actor</td>\n",
       "      <td>Aristotle Sarajos</td>\n",
       "    </tr>\n",
       "    <tr>\n",
       "      <th>12.0</th>\n",
       "      <td>The Pink Panther</td>\n",
       "      <td>Meri Welles</td>\n",
       "      <td>actress</td>\n",
       "      <td>Monica Fawn</td>\n",
       "    </tr>\n",
       "    <tr>\n",
       "      <th>13.0</th>\n",
       "      <td>The Pink Panther</td>\n",
       "      <td>Martin Miller</td>\n",
       "      <td>actor</td>\n",
       "      <td>Pierre Luigi - Photographer</td>\n",
       "    </tr>\n",
       "    <tr>\n",
       "      <th>14.0</th>\n",
       "      <td>The Pink Panther</td>\n",
       "      <td>Fran Jeffries</td>\n",
       "      <td>actress</td>\n",
       "      <td>Greek 'cousin'</td>\n",
       "    </tr>\n",
       "    <tr>\n",
       "      <th>15.0</th>\n",
       "      <td>The Pink Panther</td>\n",
       "      <td>Claudia Cardinale</td>\n",
       "      <td>actress</td>\n",
       "      <td>The Princess</td>\n",
       "    </tr>\n",
       "    <tr>\n",
       "      <th rowspan=\"46\" valign=\"top\">2006</th>\n",
       "      <th>1.0</th>\n",
       "      <td>The Pink Panther</td>\n",
       "      <td>Steve Martin</td>\n",
       "      <td>actor</td>\n",
       "      <td>Clouseau</td>\n",
       "    </tr>\n",
       "    <tr>\n",
       "      <th>2.0</th>\n",
       "      <td>The Pink Panther</td>\n",
       "      <td>Kevin Kline</td>\n",
       "      <td>actor</td>\n",
       "      <td>Dreyfus</td>\n",
       "    </tr>\n",
       "    <tr>\n",
       "      <th>3.0</th>\n",
       "      <td>The Pink Panther</td>\n",
       "      <td>Jean Reno</td>\n",
       "      <td>actor</td>\n",
       "      <td>Ponton</td>\n",
       "    </tr>\n",
       "    <tr>\n",
       "      <th>4.0</th>\n",
       "      <td>The Pink Panther</td>\n",
       "      <td>Emily Mortimer</td>\n",
       "      <td>actress</td>\n",
       "      <td>Nicole</td>\n",
       "    </tr>\n",
       "    <tr>\n",
       "      <th>5.0</th>\n",
       "      <td>The Pink Panther</td>\n",
       "      <td>Henry Czerny</td>\n",
       "      <td>actor</td>\n",
       "      <td>Yuri</td>\n",
       "    </tr>\n",
       "    <tr>\n",
       "      <th>6.0</th>\n",
       "      <td>The Pink Panther</td>\n",
       "      <td>Kristin Chenoweth</td>\n",
       "      <td>actress</td>\n",
       "      <td>Cherie</td>\n",
       "    </tr>\n",
       "    <tr>\n",
       "      <th>7.0</th>\n",
       "      <td>The Pink Panther</td>\n",
       "      <td>Roger Rees</td>\n",
       "      <td>actor</td>\n",
       "      <td>Raymond Larocque</td>\n",
       "    </tr>\n",
       "    <tr>\n",
       "      <th>8.0</th>\n",
       "      <td>The Pink Panther</td>\n",
       "      <td>Beyonc? Knowles</td>\n",
       "      <td>actress</td>\n",
       "      <td>Xania</td>\n",
       "    </tr>\n",
       "    <tr>\n",
       "      <th>9.0</th>\n",
       "      <td>The Pink Panther</td>\n",
       "      <td>Philip Goodwin</td>\n",
       "      <td>actor</td>\n",
       "      <td>Deputy Chief Renard</td>\n",
       "    </tr>\n",
       "    <tr>\n",
       "      <th>10.0</th>\n",
       "      <td>The Pink Panther</td>\n",
       "      <td>Henri Garcin</td>\n",
       "      <td>actor</td>\n",
       "      <td>President</td>\n",
       "    </tr>\n",
       "    <tr>\n",
       "      <th>11.0</th>\n",
       "      <td>The Pink Panther</td>\n",
       "      <td>William Abadie</td>\n",
       "      <td>actor</td>\n",
       "      <td>Bizu</td>\n",
       "    </tr>\n",
       "    <tr>\n",
       "      <th>12.0</th>\n",
       "      <td>The Pink Panther</td>\n",
       "      <td>Daniel Sauli</td>\n",
       "      <td>actor</td>\n",
       "      <td>Music Producer</td>\n",
       "    </tr>\n",
       "    <tr>\n",
       "      <th>13.0</th>\n",
       "      <td>The Pink Panther</td>\n",
       "      <td>Jean Dell</td>\n",
       "      <td>actor</td>\n",
       "      <td>Justice Minister Clochard</td>\n",
       "    </tr>\n",
       "    <tr>\n",
       "      <th>14.0</th>\n",
       "      <td>The Pink Panther</td>\n",
       "      <td>Anna Katarina</td>\n",
       "      <td>actress</td>\n",
       "      <td>Agent Corbeille</td>\n",
       "    </tr>\n",
       "    <tr>\n",
       "      <th>15.0</th>\n",
       "      <td>The Pink Panther</td>\n",
       "      <td>Nick Toren</td>\n",
       "      <td>actor</td>\n",
       "      <td>Agent Savard</td>\n",
       "    </tr>\n",
       "    <tr>\n",
       "      <th>...</th>\n",
       "      <td>...</td>\n",
       "      <td>...</td>\n",
       "      <td>...</td>\n",
       "      <td>...</td>\n",
       "    </tr>\n",
       "    <tr>\n",
       "      <th>21.0</th>\n",
       "      <td>The Pink Panther</td>\n",
       "      <td>Yan-Sang Roussel</td>\n",
       "      <td>actor</td>\n",
       "      <td>Dr. Pang</td>\n",
       "    </tr>\n",
       "    <tr>\n",
       "      <th>22.0</th>\n",
       "      <td>The Pink Panther</td>\n",
       "      <td>Boris McGiver</td>\n",
       "      <td>actor</td>\n",
       "      <td>Vainqueur</td>\n",
       "    </tr>\n",
       "    <tr>\n",
       "      <th>23.0</th>\n",
       "      <td>The Pink Panther</td>\n",
       "      <td>Stephen Rowe</td>\n",
       "      <td>actor</td>\n",
       "      <td>Black Market Jeweler</td>\n",
       "    </tr>\n",
       "    <tr>\n",
       "      <th>24.0</th>\n",
       "      <td>The Pink Panther</td>\n",
       "      <td>Alice Taglioni</td>\n",
       "      <td>actress</td>\n",
       "      <td>Female Reporter</td>\n",
       "    </tr>\n",
       "    <tr>\n",
       "      <th>25.0</th>\n",
       "      <td>The Pink Panther</td>\n",
       "      <td>Gregory Salata</td>\n",
       "      <td>actor</td>\n",
       "      <td>Security Chief</td>\n",
       "    </tr>\n",
       "    <tr>\n",
       "      <th>26.0</th>\n",
       "      <td>The Pink Panther</td>\n",
       "      <td>Stefan Elbaum</td>\n",
       "      <td>actor</td>\n",
       "      <td>Male Reporter</td>\n",
       "    </tr>\n",
       "    <tr>\n",
       "      <th>27.0</th>\n",
       "      <td>The Pink Panther</td>\n",
       "      <td>Charley Fouquet</td>\n",
       "      <td>actress</td>\n",
       "      <td>Palais Reporter</td>\n",
       "    </tr>\n",
       "    <tr>\n",
       "      <th>28.0</th>\n",
       "      <td>The Pink Panther</td>\n",
       "      <td>Robbie Nock</td>\n",
       "      <td>actor</td>\n",
       "      <td>TV News Anchor</td>\n",
       "    </tr>\n",
       "    <tr>\n",
       "      <th>29.0</th>\n",
       "      <td>The Pink Panther</td>\n",
       "      <td>John Cenatiempo</td>\n",
       "      <td>actor</td>\n",
       "      <td>Thug in Alley</td>\n",
       "    </tr>\n",
       "    <tr>\n",
       "      <th>30.0</th>\n",
       "      <td>The Pink Panther</td>\n",
       "      <td>Chuck Jeffreys</td>\n",
       "      <td>actor</td>\n",
       "      <td>Thug in Alley</td>\n",
       "    </tr>\n",
       "    <tr>\n",
       "      <th>31.0</th>\n",
       "      <td>The Pink Panther</td>\n",
       "      <td>Aaron Vexler</td>\n",
       "      <td>actor</td>\n",
       "      <td>Thug in Alley</td>\n",
       "    </tr>\n",
       "    <tr>\n",
       "      <th>32.0</th>\n",
       "      <td>The Pink Panther</td>\n",
       "      <td>Andrew Tarbet</td>\n",
       "      <td>actor</td>\n",
       "      <td>TSA Agent</td>\n",
       "    </tr>\n",
       "    <tr>\n",
       "      <th>33.0</th>\n",
       "      <td>The Pink Panther</td>\n",
       "      <td>Dexter Bell</td>\n",
       "      <td>actor</td>\n",
       "      <td>Terry Ahkee-Sauce</td>\n",
       "    </tr>\n",
       "    <tr>\n",
       "      <th>34.0</th>\n",
       "      <td>The Pink Panther</td>\n",
       "      <td>Kristi Angus</td>\n",
       "      <td>actress</td>\n",
       "      <td>Mysterious Woman</td>\n",
       "    </tr>\n",
       "    <tr>\n",
       "      <th>35.0</th>\n",
       "      <td>The Pink Panther</td>\n",
       "      <td>Stephen Park</td>\n",
       "      <td>actor</td>\n",
       "      <td>Palace Guard</td>\n",
       "    </tr>\n",
       "    <tr>\n",
       "      <th>36.0</th>\n",
       "      <td>The Pink Panther</td>\n",
       "      <td>Aaron Pearl</td>\n",
       "      <td>actor</td>\n",
       "      <td>K9 Guard</td>\n",
       "    </tr>\n",
       "    <tr>\n",
       "      <th>37.0</th>\n",
       "      <td>The Pink Panther</td>\n",
       "      <td>Sean Tyson</td>\n",
       "      <td>actor</td>\n",
       "      <td>National Guard</td>\n",
       "    </tr>\n",
       "    <tr>\n",
       "      <th>38.0</th>\n",
       "      <td>The Pink Panther</td>\n",
       "      <td>Chelah Horsdal</td>\n",
       "      <td>actress</td>\n",
       "      <td>Security Guard</td>\n",
       "    </tr>\n",
       "    <tr>\n",
       "      <th>39.0</th>\n",
       "      <td>The Pink Panther</td>\n",
       "      <td>Lucas Tavernier</td>\n",
       "      <td>actor</td>\n",
       "      <td>Street Reporter</td>\n",
       "    </tr>\n",
       "    <tr>\n",
       "      <th>40.0</th>\n",
       "      <td>The Pink Panther</td>\n",
       "      <td>Mareva Galanter</td>\n",
       "      <td>actress</td>\n",
       "      <td>Street Reporter</td>\n",
       "    </tr>\n",
       "    <tr>\n",
       "      <th>41.0</th>\n",
       "      <td>The Pink Panther</td>\n",
       "      <td>Delphine Chan?ac</td>\n",
       "      <td>actress</td>\n",
       "      <td>Ticket Checker</td>\n",
       "    </tr>\n",
       "    <tr>\n",
       "      <th>42.0</th>\n",
       "      <td>The Pink Panther</td>\n",
       "      <td>Ralph Drischell</td>\n",
       "      <td>actor</td>\n",
       "      <td>Wheelchair Guy</td>\n",
       "    </tr>\n",
       "    <tr>\n",
       "      <th>43.0</th>\n",
       "      <td>The Pink Panther</td>\n",
       "      <td>Chad Gabriel</td>\n",
       "      <td>actor</td>\n",
       "      <td>Hotel Desk Clerk</td>\n",
       "    </tr>\n",
       "    <tr>\n",
       "      <th>44.0</th>\n",
       "      <td>The Pink Panther</td>\n",
       "      <td>Antoine Blanquefort</td>\n",
       "      <td>actor</td>\n",
       "      <td>Ballroom Reporter</td>\n",
       "    </tr>\n",
       "    <tr>\n",
       "      <th>45.0</th>\n",
       "      <td>The Pink Panther</td>\n",
       "      <td>Yvonne Sci?</td>\n",
       "      <td>actress</td>\n",
       "      <td>Casino Waitress</td>\n",
       "    </tr>\n",
       "    <tr>\n",
       "      <th>46.0</th>\n",
       "      <td>The Pink Panther</td>\n",
       "      <td>Rick Jaeckel</td>\n",
       "      <td>actor</td>\n",
       "      <td>Dealer</td>\n",
       "    </tr>\n",
       "    <tr>\n",
       "      <th>47.0</th>\n",
       "      <td>The Pink Panther</td>\n",
       "      <td>Za Kari A. Asher</td>\n",
       "      <td>actress</td>\n",
       "      <td>Dancer</td>\n",
       "    </tr>\n",
       "    <tr>\n",
       "      <th>48.0</th>\n",
       "      <td>The Pink Panther</td>\n",
       "      <td>Renece Fincher</td>\n",
       "      <td>actor</td>\n",
       "      <td>Dancer</td>\n",
       "    </tr>\n",
       "    <tr>\n",
       "      <th>49.0</th>\n",
       "      <td>The Pink Panther</td>\n",
       "      <td>Stewart Castledine</td>\n",
       "      <td>actor</td>\n",
       "      <td>French Goalie</td>\n",
       "    </tr>\n",
       "    <tr>\n",
       "      <th>50.0</th>\n",
       "      <td>The Pink Panther</td>\n",
       "      <td>Davide Borella</td>\n",
       "      <td>actor</td>\n",
       "      <td>Gas-Mask Bandit</td>\n",
       "    </tr>\n",
       "  </tbody>\n",
       "</table>\n",
       "<p>65 rows × 4 columns</p>\n",
       "</div>"
      ],
      "text/plain": [
       "                      title                 name     type  \\\n",
       "year n                                                      \n",
       "1963 1.0   The Pink Panther          David Niven    actor   \n",
       "     2.0   The Pink Panther        Peter Sellers    actor   \n",
       "     3.0   The Pink Panther        Robert Wagner    actor   \n",
       "     4.0   The Pink Panther             Capucine  actress   \n",
       "     5.0   The Pink Panther     Brenda de Banzie  actress   \n",
       "     6.0   The Pink Panther         Colin Gordon    actor   \n",
       "     7.0   The Pink Panther     John Le Mesurier    actor   \n",
       "     8.0   The Pink Panther       James Lanphier    actor   \n",
       "     9.0   The Pink Panther         Guy Thomajan    actor   \n",
       "     10.0  The Pink Panther    Michael Trubshawe    actor   \n",
       "     11.0  The Pink Panther       Riccardo Billi    actor   \n",
       "     12.0  The Pink Panther          Meri Welles  actress   \n",
       "     13.0  The Pink Panther        Martin Miller    actor   \n",
       "     14.0  The Pink Panther        Fran Jeffries  actress   \n",
       "     15.0  The Pink Panther    Claudia Cardinale  actress   \n",
       "2006 1.0   The Pink Panther         Steve Martin    actor   \n",
       "     2.0   The Pink Panther          Kevin Kline    actor   \n",
       "     3.0   The Pink Panther            Jean Reno    actor   \n",
       "     4.0   The Pink Panther       Emily Mortimer  actress   \n",
       "     5.0   The Pink Panther         Henry Czerny    actor   \n",
       "     6.0   The Pink Panther    Kristin Chenoweth  actress   \n",
       "     7.0   The Pink Panther           Roger Rees    actor   \n",
       "     8.0   The Pink Panther      Beyonc? Knowles  actress   \n",
       "     9.0   The Pink Panther       Philip Goodwin    actor   \n",
       "     10.0  The Pink Panther         Henri Garcin    actor   \n",
       "     11.0  The Pink Panther       William Abadie    actor   \n",
       "     12.0  The Pink Panther         Daniel Sauli    actor   \n",
       "     13.0  The Pink Panther            Jean Dell    actor   \n",
       "     14.0  The Pink Panther        Anna Katarina  actress   \n",
       "     15.0  The Pink Panther           Nick Toren    actor   \n",
       "...                     ...                  ...      ...   \n",
       "     21.0  The Pink Panther     Yan-Sang Roussel    actor   \n",
       "     22.0  The Pink Panther        Boris McGiver    actor   \n",
       "     23.0  The Pink Panther         Stephen Rowe    actor   \n",
       "     24.0  The Pink Panther       Alice Taglioni  actress   \n",
       "     25.0  The Pink Panther       Gregory Salata    actor   \n",
       "     26.0  The Pink Panther        Stefan Elbaum    actor   \n",
       "     27.0  The Pink Panther      Charley Fouquet  actress   \n",
       "     28.0  The Pink Panther          Robbie Nock    actor   \n",
       "     29.0  The Pink Panther      John Cenatiempo    actor   \n",
       "     30.0  The Pink Panther       Chuck Jeffreys    actor   \n",
       "     31.0  The Pink Panther         Aaron Vexler    actor   \n",
       "     32.0  The Pink Panther        Andrew Tarbet    actor   \n",
       "     33.0  The Pink Panther          Dexter Bell    actor   \n",
       "     34.0  The Pink Panther         Kristi Angus  actress   \n",
       "     35.0  The Pink Panther         Stephen Park    actor   \n",
       "     36.0  The Pink Panther          Aaron Pearl    actor   \n",
       "     37.0  The Pink Panther           Sean Tyson    actor   \n",
       "     38.0  The Pink Panther       Chelah Horsdal  actress   \n",
       "     39.0  The Pink Panther      Lucas Tavernier    actor   \n",
       "     40.0  The Pink Panther      Mareva Galanter  actress   \n",
       "     41.0  The Pink Panther     Delphine Chan?ac  actress   \n",
       "     42.0  The Pink Panther      Ralph Drischell    actor   \n",
       "     43.0  The Pink Panther         Chad Gabriel    actor   \n",
       "     44.0  The Pink Panther  Antoine Blanquefort    actor   \n",
       "     45.0  The Pink Panther          Yvonne Sci?  actress   \n",
       "     46.0  The Pink Panther         Rick Jaeckel    actor   \n",
       "     47.0  The Pink Panther     Za Kari A. Asher  actress   \n",
       "     48.0  The Pink Panther       Renece Fincher    actor   \n",
       "     49.0  The Pink Panther   Stewart Castledine    actor   \n",
       "     50.0  The Pink Panther       Davide Borella    actor   \n",
       "\n",
       "                             character  \n",
       "year n                                  \n",
       "1963 1.0            Sir Charles Lytton  \n",
       "     2.0        Insp. Jacques Clouseau  \n",
       "     3.0                 George Lytton  \n",
       "     4.0               Simone Clouseau  \n",
       "     5.0                Angela Dunning  \n",
       "     6.0                        Tucker  \n",
       "     7.0             Defence Barrister  \n",
       "     8.0                        Saloud  \n",
       "     9.0                        Artoff  \n",
       "     10.0                 Felix Townes  \n",
       "     11.0            Aristotle Sarajos  \n",
       "     12.0                  Monica Fawn  \n",
       "     13.0  Pierre Luigi - Photographer  \n",
       "     14.0               Greek 'cousin'  \n",
       "     15.0                 The Princess  \n",
       "2006 1.0                      Clouseau  \n",
       "     2.0                       Dreyfus  \n",
       "     3.0                        Ponton  \n",
       "     4.0                        Nicole  \n",
       "     5.0                          Yuri  \n",
       "     6.0                        Cherie  \n",
       "     7.0              Raymond Larocque  \n",
       "     8.0                         Xania  \n",
       "     9.0           Deputy Chief Renard  \n",
       "     10.0                    President  \n",
       "     11.0                         Bizu  \n",
       "     12.0               Music Producer  \n",
       "     13.0    Justice Minister Clochard  \n",
       "     14.0              Agent Corbeille  \n",
       "     15.0                 Agent Savard  \n",
       "...                                ...  \n",
       "     21.0                     Dr. Pang  \n",
       "     22.0                    Vainqueur  \n",
       "     23.0         Black Market Jeweler  \n",
       "     24.0              Female Reporter  \n",
       "     25.0               Security Chief  \n",
       "     26.0                Male Reporter  \n",
       "     27.0              Palais Reporter  \n",
       "     28.0               TV News Anchor  \n",
       "     29.0                Thug in Alley  \n",
       "     30.0                Thug in Alley  \n",
       "     31.0                Thug in Alley  \n",
       "     32.0                    TSA Agent  \n",
       "     33.0            Terry Ahkee-Sauce  \n",
       "     34.0             Mysterious Woman  \n",
       "     35.0                 Palace Guard  \n",
       "     36.0                     K9 Guard  \n",
       "     37.0               National Guard  \n",
       "     38.0               Security Guard  \n",
       "     39.0              Street Reporter  \n",
       "     40.0              Street Reporter  \n",
       "     41.0               Ticket Checker  \n",
       "     42.0               Wheelchair Guy  \n",
       "     43.0             Hotel Desk Clerk  \n",
       "     44.0            Ballroom Reporter  \n",
       "     45.0              Casino Waitress  \n",
       "     46.0                       Dealer  \n",
       "     47.0                       Dancer  \n",
       "     48.0                       Dancer  \n",
       "     49.0                French Goalie  \n",
       "     50.0              Gas-Mask Bandit  \n",
       "\n",
       "[65 rows x 4 columns]"
      ]
     },
     "execution_count": 29,
     "metadata": {},
     "output_type": "execute_result"
    }
   ],
   "source": [
    "c=cast\n",
    "c=c[c.title == 'The Pink Panther']\n",
    "c=c.sort_values('n').groupby(['year','n']).max()\n",
    "c"
   ]
  },
  {
   "cell_type": "code",
   "execution_count": null,
   "metadata": {
    "collapsed": true
   },
   "outputs": [],
   "source": []
  },
  {
   "cell_type": "code",
   "execution_count": null,
   "metadata": {
    "collapsed": true
   },
   "outputs": [],
   "source": []
  },
  {
   "cell_type": "code",
   "execution_count": null,
   "metadata": {
    "collapsed": true
   },
   "outputs": [],
   "source": []
  },
  {
   "cell_type": "code",
   "execution_count": null,
   "metadata": {
    "collapsed": true
   },
   "outputs": [],
   "source": []
  },
  {
   "cell_type": "code",
   "execution_count": null,
   "metadata": {
    "collapsed": true
   },
   "outputs": [],
   "source": []
  },
  {
   "cell_type": "code",
   "execution_count": 15,
   "metadata": {
    "collapsed": false
   },
   "outputs": [
    {
     "data": {
      "text/html": [
       "<div>\n",
       "<table border=\"1\" class=\"dataframe\">\n",
       "  <thead>\n",
       "    <tr style=\"text-align: right;\">\n",
       "      <th></th>\n",
       "      <th>n</th>\n",
       "    </tr>\n",
       "    <tr>\n",
       "      <th>year</th>\n",
       "      <th></th>\n",
       "    </tr>\n",
       "  </thead>\n",
       "  <tbody>\n",
       "    <tr>\n",
       "      <th>1963</th>\n",
       "      <td>15.0</td>\n",
       "    </tr>\n",
       "    <tr>\n",
       "      <th>2006</th>\n",
       "      <td>50.0</td>\n",
       "    </tr>\n",
       "  </tbody>\n",
       "</table>\n",
       "</div>"
      ],
      "text/plain": [
       "         n\n",
       "year      \n",
       "1963  15.0\n",
       "2006  50.0"
      ]
     },
     "execution_count": 15,
     "metadata": {},
     "output_type": "execute_result"
    }
   ],
   "source": [
    "c = cast\n",
    "c = c[c.title == 'The Pink Panther']\n",
    "c = c.sort_values('n').groupby(['year'])[['n']].max()\n",
    "c"
   ]
  },
  {
   "cell_type": "markdown",
   "metadata": {
    "collapsed": true
   },
   "source": [
    "### List, in order by year, each of the films in which Frank Oz has played more than 1 role."
   ]
  },
  {
   "cell_type": "code",
   "execution_count": 32,
   "metadata": {
    "collapsed": false
   },
   "outputs": [
    {
     "data": {
      "text/plain": [
       "year  title                               \n",
       "1979  The Muppet Movie                        8\n",
       "1981  An American Werewolf in London          2\n",
       "      The Great Muppet Caper                  6\n",
       "1982  The Dark Crystal                        2\n",
       "1984  The Muppets Take Manhattan              7\n",
       "1985  Follow That Bird                        3\n",
       "1992  The Muppet Christmas Carol              7\n",
       "1996  Muppet Treasure Island                  4\n",
       "1999  Muppets from Space                      4\n",
       "      The Adventures of Elmo in Grouchland    3\n",
       "dtype: int64"
      ]
     },
     "execution_count": 32,
     "metadata": {},
     "output_type": "execute_result"
    }
   ],
   "source": [
    "c=cast\n",
    "c=c[c.name == 'Frank Oz']\n",
    "c=c.sort_values('year').groupby(['year','title']).size()\n",
    "c[c > 1]"
   ]
  },
  {
   "cell_type": "code",
   "execution_count": null,
   "metadata": {
    "collapsed": true
   },
   "outputs": [],
   "source": []
  },
  {
   "cell_type": "code",
   "execution_count": 21,
   "metadata": {
    "collapsed": false
   },
   "outputs": [
    {
     "data": {
      "text/plain": [
       "year  title                               \n",
       "1979  The Muppet Movie                        8\n",
       "1981  An American Werewolf in London          2\n",
       "      The Great Muppet Caper                  6\n",
       "1982  The Dark Crystal                        2\n",
       "1984  The Muppets Take Manhattan              7\n",
       "1985  Follow That Bird                        3\n",
       "1992  The Muppet Christmas Carol              7\n",
       "1996  Muppet Treasure Island                  4\n",
       "1999  Muppets from Space                      4\n",
       "      The Adventures of Elmo in Grouchland    3\n",
       "dtype: int64"
      ]
     },
     "execution_count": 21,
     "metadata": {},
     "output_type": "execute_result"
    }
   ],
   "source": [
    "c = cast\n",
    "c=c[c.name == 'Frank Oz']\n",
    "c=c.sort_values('year').groupby(['year','title']).size()\n",
    "c[c>1]"
   ]
  },
  {
   "cell_type": "code",
   "execution_count": 20,
   "metadata": {
    "collapsed": false
   },
   "outputs": [
    {
     "data": {
      "text/plain": [
       "year  title                               \n",
       "1979  The Muppet Movie                        8\n",
       "1981  An American Werewolf in London          2\n",
       "      The Great Muppet Caper                  6\n",
       "1982  The Dark Crystal                        2\n",
       "1984  The Muppets Take Manhattan              7\n",
       "1985  Follow That Bird                        3\n",
       "1992  The Muppet Christmas Carol              7\n",
       "1996  Muppet Treasure Island                  4\n",
       "1999  Muppets from Space                      4\n",
       "      The Adventures of Elmo in Grouchland    3\n",
       "dtype: int64"
      ]
     },
     "execution_count": 20,
     "metadata": {},
     "output_type": "execute_result"
    }
   ],
   "source": [
    "\n",
    "c = cast\n",
    "c = c[c.name == 'Frank Oz']\n",
    "g = c.groupby(['year', 'title']).size()\n",
    "g[g > 1]"
   ]
  },
  {
   "cell_type": "code",
   "execution_count": null,
   "metadata": {
    "collapsed": true
   },
   "outputs": [],
   "source": []
  },
  {
   "cell_type": "code",
   "execution_count": null,
   "metadata": {
    "collapsed": true
   },
   "outputs": [],
   "source": []
  },
  {
   "cell_type": "code",
   "execution_count": null,
   "metadata": {
    "collapsed": true
   },
   "outputs": [],
   "source": []
  },
  {
   "cell_type": "code",
   "execution_count": null,
   "metadata": {
    "collapsed": true
   },
   "outputs": [],
   "source": []
  },
  {
   "cell_type": "markdown",
   "metadata": {
    "collapsed": true
   },
   "source": [
    "### List each of the characters that Frank Oz has portrayed at least twice."
   ]
  },
  {
   "cell_type": "code",
   "execution_count": null,
   "metadata": {
    "collapsed": true
   },
   "outputs": [],
   "source": [
    "c=cast\n",
    "c=c[c.name == 'Frank Oz']\n"
   ]
  },
  {
   "cell_type": "code",
   "execution_count": null,
   "metadata": {
    "collapsed": true
   },
   "outputs": [],
   "source": []
  },
  {
   "cell_type": "code",
   "execution_count": null,
   "metadata": {
    "collapsed": true
   },
   "outputs": [],
   "source": [
    "c=cast\n",
    "c=c[c.name == 'Frank Oz']\n"
   ]
  },
  {
   "cell_type": "code",
   "execution_count": null,
   "metadata": {
    "collapsed": true
   },
   "outputs": [],
   "source": []
  },
  {
   "cell_type": "code",
   "execution_count": null,
   "metadata": {
    "collapsed": true
   },
   "outputs": [],
   "source": []
  },
  {
   "cell_type": "code",
   "execution_count": 22,
   "metadata": {
    "collapsed": false
   },
   "outputs": [
    {
     "name": "stderr",
     "output_type": "stream",
     "text": [
      "C:\\Users\\owner\\Anaconda3\\lib\\site-packages\\ipykernel\\__main__.py:4: FutureWarning: order is deprecated, use sort_values(...)\n"
     ]
    },
    {
     "data": {
      "text/plain": [
       "character\n",
       "Grover            2\n",
       "Bert              3\n",
       "Cookie Monster    3\n",
       "Fozzie Bear       4\n",
       "Sam the Eagle     5\n",
       "Animal            6\n",
       "Miss Piggy        6\n",
       "Yoda              6\n",
       "dtype: int64"
      ]
     },
     "execution_count": 22,
     "metadata": {},
     "output_type": "execute_result"
    }
   ],
   "source": [
    "c = cast\n",
    "c = c[c.name == 'Frank Oz']\n",
    "g = c.groupby(['character']).size()\n",
    "g[g > 1].order()"
   ]
  },
  {
   "cell_type": "code",
   "execution_count": null,
   "metadata": {
    "collapsed": true
   },
   "outputs": [],
   "source": []
  }
 ],
 "metadata": {
  "kernelspec": {
   "display_name": "Python 3",
   "language": "python",
   "name": "python3"
  },
  "language_info": {
   "codemirror_mode": {
    "name": "ipython",
    "version": 3
   },
   "file_extension": ".py",
   "mimetype": "text/x-python",
   "name": "python",
   "nbconvert_exporter": "python",
   "pygments_lexer": "ipython3",
   "version": "3.6.0"
  }
 },
 "nbformat": 4,
 "nbformat_minor": 0
}
